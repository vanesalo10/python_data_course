{
 "cells": [
  {
   "cell_type": "markdown",
   "id": "2663b874-1169-48c4-8808-45d1ea771965",
   "metadata": {},
   "source": [
    "# Python Data Structures: Lists, Tuples, Sets, and Dictionaries\n",
    "\n",
    "In this notebook we’ll learn:\n",
    "- What each built-in data structure is for\n",
    "- How to create, access, and modify them\n",
    "- Common methods and operations\n",
    "- Practical tips & pitfalls\n",
    "- Practice exercises\n",
    "\n",
    "> “Data structure” refers to a way of representing values in a program. There are usually several useful structures for a problem, but some are more correct or efficient than others."
   ]
  },
  {
   "cell_type": "markdown",
   "id": "b97aff94-42ec-4c2e-9dde-b54febe887f0",
   "metadata": {},
   "source": [
    "## 0) Quick Overview\n",
    "\n",
    "- **List**: ordered, mutable collection — use for sequences you’ll edit.\n",
    "- **Tuple**: ordered, immutable collection — use for fixed records or as dict keys.\n",
    "- **Set**: unordered, unique elements — use to remove duplicates, membership tests, set algebra.\n",
    "- **Dictionary**: key → value mapping — use to label data or store attributes.\n",
    "\n",
    "We’ll also cover:\n",
    "- Copying vs referencing\n",
    "- Comprehensions\n",
    "- When to use which"
   ]
  },
  {
   "cell_type": "markdown",
   "id": "b4e02c1f-953e-43fa-84b6-0a2059bad854",
   "metadata": {},
   "source": [
    "## 1) Lists\n",
    "\n",
    "Use a **list** to store multiple values in one variable, with the ability to **add**, **remove**, and **access** items.\n",
    "\n",
    "### Creation (examples from your notes)"
   ]
  },
  {
   "cell_type": "code",
   "execution_count": 2,
   "id": "6ad15409-4526-4480-9b3c-fa94a67aa225",
   "metadata": {},
   "outputs": [
    {
     "data": {
      "text/plain": [
       "(['santiaguito', 'juliansito', 'danilito'],\n",
       " [2, 3, 5, 7, 11, 13, 17, 19],\n",
       " [-5, -4, -2, -1],\n",
       " [None, 3, '4', 0.15],\n",
       " [])"
      ]
     },
     "execution_count": 2,
     "metadata": {},
     "output_type": "execute_result"
    }
   ],
   "source": [
    "students = [\"santiaguito\", \"juliansito\", \"danilito\"]\n",
    "primes_up_to_20 = [2, 3, 5, 7, 11, 13, 17, 19]\n",
    "negative_integers_greater_than_minus_5 = [-5, -4, -2, -1]\n",
    "collection_of_different_types = [None, 3, \"4\", 0.15]\n",
    "empty_list = []\n",
    "\n",
    "students, primes_up_to_20, negative_integers_greater_than_minus_5, collection_of_different_types, empty_list\n"
   ]
  },
  {
   "cell_type": "markdown",
   "id": "d51a5f40-84fd-43d3-95cb-6b30bc5e9264",
   "metadata": {},
   "source": [
    "### Indexing & Slicing\n"
   ]
  },
  {
   "cell_type": "code",
   "execution_count": 3,
   "id": "16a2d390-4b44-4a9c-bda7-fd64a285ba9c",
   "metadata": {},
   "outputs": [
    {
     "data": {
      "text/plain": [
       "(10, 50, [20, 30, 40], [50, 40, 30, 20, 10])"
      ]
     },
     "execution_count": 3,
     "metadata": {},
     "output_type": "execute_result"
    }
   ],
   "source": [
    "numbers = [10, 20, 30, 40, 50]\n",
    "numbers[0], numbers[-1], numbers[1:4], numbers[::-1]\n"
   ]
  },
  {
   "cell_type": "markdown",
   "id": "a6d7e385-9183-4a1d-a34f-60512aa488b8",
   "metadata": {},
   "source": [
    "### Common list methods\n",
    "\n",
    "full list of methods: https://www.w3schools.com/python/python_lists_methods.asp"
   ]
  },
  {
   "cell_type": "code",
   "execution_count": 23,
   "id": "22a1d402-1979-4bbf-961e-a56711e233f2",
   "metadata": {},
   "outputs": [
    {
     "name": "stdout",
     "output_type": "stream",
     "text": [
      "['orange', 'apple', 'pear', 'banana', 'kiwi', 'apple', 'banana']\n",
      "2\n",
      "0\n",
      "3\n",
      "6\n",
      "['banana', 'apple', 'kiwi', 'banana', 'pear', 'apple', 'orange']\n",
      "['banana', 'apple', 'kiwi', 'banana', 'pear', 'apple', 'orange', 'grape']\n",
      "['apple', 'apple', 'banana', 'banana', 'grape', 'kiwi', 'orange', 'pear']\n",
      "pear ['apple', 'apple', 'banana', 'banana', 'grape', 'kiwi', 'orange']\n",
      "['apple', 'cherry']\n",
      "['apple', 'cherry', 'banana', 'kiwi']\n"
     ]
    }
   ],
   "source": [
    "fruits = ['orange', 'apple', 'pear', 'banana', 'kiwi', 'apple', 'banana']\n",
    "print(fruits)\n",
    "print(fruits.count('apple'))      # 2\n",
    "print(fruits.count('tangerine'))  # 0\n",
    "print(fruits.index('banana'))     # 3\n",
    "print(fruits.index('banana', 4))  # 6 (search starting at position 4)\n",
    "\n",
    "fruits.reverse()\n",
    "print(fruits)\n",
    "\n",
    "fruits.append('grape')\n",
    "print(fruits)\n",
    "\n",
    "fruits.sort()\n",
    "print(fruits)\n",
    "\n",
    "last = fruits.pop()\n",
    "print(last, fruits)\n",
    "\n",
    "thislist = [\"apple\", \"banana\", \"cherry\"]\n",
    "thislist.remove(\"banana\")\n",
    "print(thislist)\n",
    "\n",
    "thislist = [\"apple\", \"banana\", \"cherry\", \"banana\", \"kiwi\"]\n",
    "thislist.remove(\"banana\")\n",
    "print(thislist)\n"
   ]
  },
  {
   "cell_type": "code",
   "execution_count": 24,
   "id": "435b0385-2856-43b4-88e6-14a266032f4b",
   "metadata": {},
   "outputs": [
    {
     "name": "stdout",
     "output_type": "stream",
     "text": [
      "['banana', 'cherry']\n"
     ]
    }
   ],
   "source": [
    "thislist = [\"apple\", \"banana\", \"cherry\"]\n",
    "del thislist[0]\n",
    "print(thislist)"
   ]
  },
  {
   "cell_type": "code",
   "execution_count": 26,
   "id": "ffdf2cb0-0782-4b6c-b747-3b1320110a91",
   "metadata": {},
   "outputs": [
    {
     "ename": "NameError",
     "evalue": "name 'thislist' is not defined",
     "output_type": "error",
     "traceback": [
      "\u001b[31m---------------------------------------------------------------------------\u001b[39m",
      "\u001b[31mNameError\u001b[39m                                 Traceback (most recent call last)",
      "\u001b[36mCell\u001b[39m\u001b[36m \u001b[39m\u001b[32mIn[26]\u001b[39m\u001b[32m, line 3\u001b[39m\n\u001b[32m      1\u001b[39m thislist = [\u001b[33m\"\u001b[39m\u001b[33mapple\u001b[39m\u001b[33m\"\u001b[39m, \u001b[33m\"\u001b[39m\u001b[33mbanana\u001b[39m\u001b[33m\"\u001b[39m, \u001b[33m\"\u001b[39m\u001b[33mcherry\u001b[39m\u001b[33m\"\u001b[39m]\n\u001b[32m      2\u001b[39m \u001b[38;5;28;01mdel\u001b[39;00m thislist\n\u001b[32m----> \u001b[39m\u001b[32m3\u001b[39m \u001b[38;5;28mprint\u001b[39m(\u001b[43mthislist\u001b[49m)\n",
      "\u001b[31mNameError\u001b[39m: name 'thislist' is not defined"
     ]
    }
   ],
   "source": [
    "thislist = [\"apple\", \"banana\", \"cherry\"]\n",
    "del thislist\n",
    "print(thislist)"
   ]
  },
  {
   "cell_type": "code",
   "execution_count": 27,
   "id": "2177f1c8-33ca-4e86-88d9-2ffa71f157e7",
   "metadata": {},
   "outputs": [
    {
     "name": "stdout",
     "output_type": "stream",
     "text": [
      "[]\n"
     ]
    }
   ],
   "source": [
    "thislist = [\"apple\", \"banana\", \"cherry\"]\n",
    "thislist.clear()\n",
    "print(thislist)"
   ]
  },
  {
   "cell_type": "markdown",
   "id": "eedd6e80-5d2a-4f55-a217-b25f2e1c7cd4",
   "metadata": {},
   "source": [
    "### Join Lists"
   ]
  },
  {
   "cell_type": "code",
   "execution_count": 28,
   "id": "c67826a0-9e8f-41bb-973f-e30900930ac7",
   "metadata": {},
   "outputs": [
    {
     "name": "stdout",
     "output_type": "stream",
     "text": [
      "['a', 'b', 'c', 1, 2, 3]\n"
     ]
    }
   ],
   "source": [
    "list1 = [\"a\", \"b\", \"c\"]\n",
    "list2 = [1, 2, 3]\n",
    "\n",
    "list3 = list1 + list2\n",
    "print(list3)"
   ]
  },
  {
   "cell_type": "code",
   "execution_count": 29,
   "id": "7f3c9f4c-11cd-4f8e-b6cd-e69807507bf9",
   "metadata": {},
   "outputs": [
    {
     "name": "stdout",
     "output_type": "stream",
     "text": [
      "['a', 'b', 'c', 1, 2, 3]\n"
     ]
    }
   ],
   "source": [
    "list1 = [\"a\", \"b\" , \"c\"]\n",
    "list2 = [1, 2, 3]\n",
    "\n",
    "for x in list2:\n",
    "  list1.append(x)\n",
    "\n",
    "print(list1)"
   ]
  },
  {
   "cell_type": "code",
   "execution_count": 30,
   "id": "400732fd-b7ec-4b97-a706-1801a257c68d",
   "metadata": {},
   "outputs": [
    {
     "name": "stdout",
     "output_type": "stream",
     "text": [
      "['a', 'b', 'c', 1, 2, 3]\n"
     ]
    }
   ],
   "source": [
    "list1 = [\"a\", \"b\" , \"c\"]\n",
    "list2 = [1, 2, 3]\n",
    "\n",
    "list1.extend(list2)\n",
    "print(list1)"
   ]
  },
  {
   "cell_type": "markdown",
   "id": "02e13b5b-6f7b-431d-8ecf-c6c628a53876",
   "metadata": {},
   "source": [
    "### Mutability: assigning and replacing items\n"
   ]
  },
  {
   "cell_type": "code",
   "execution_count": 6,
   "id": "c89059fd-f697-41be-9cfe-d94a89c27a38",
   "metadata": {},
   "outputs": [
    {
     "data": {
      "text/plain": [
       "['orange', 'apple', 456, 'banana', 'pear', 'apple', 'banana']"
      ]
     },
     "execution_count": 6,
     "metadata": {},
     "output_type": "execute_result"
    }
   ],
   "source": [
    "fruits = ['orange', 'apple', 'kiwi', 'banana', 'pear', 'apple', 'banana']\n",
    "fruits[2] = 456    # Lists can be mutated\n",
    "fruits"
   ]
  },
  {
   "cell_type": "markdown",
   "id": "cf716b8d-36b8-4198-9183-c4300f36e624",
   "metadata": {},
   "source": [
    "### Sorting & copying"
   ]
  },
  {
   "cell_type": "code",
   "execution_count": 7,
   "id": "5d067b27-e458-44a4-b226-550216125366",
   "metadata": {},
   "outputs": [
    {
     "data": {
      "text/plain": [
       "([9, 9, 4, 2, 1], [1, 2, 4, 9, 9])"
      ]
     },
     "execution_count": 7,
     "metadata": {},
     "output_type": "execute_result"
    }
   ],
   "source": [
    "scores = [4, 2, 9, 1, 9]\n",
    "scores_sorted = sorted(scores)      # returns new list\n",
    "scores.sort(reverse=True)           # in-place sort, descending\n",
    "scores, scores_sorted\n"
   ]
  },
  {
   "cell_type": "markdown",
   "id": "d120775b-4689-4fb5-b316-be90f87d81c0",
   "metadata": {},
   "source": [
    "### List Comprehension"
   ]
  },
  {
   "cell_type": "code",
   "execution_count": 8,
   "id": "bc7df6b8-276b-4b7b-a63b-34ba7faf94fb",
   "metadata": {},
   "outputs": [
    {
     "data": {
      "text/plain": [
       "(['a', 'b', 'c', 'd', 'e', 'f', 'g'], [1, 1, 1, 1, 1, 1, 1], ['A', 'E'])"
      ]
     },
     "execution_count": 8,
     "metadata": {},
     "output_type": "execute_result"
    }
   ],
   "source": [
    "notes = [\"A\", \"B\", \"C\", \"D\", \"E\", \"F\", \"G\"]\n",
    "lower = [n.lower() for n in notes]\n",
    "lengths = [len(n) for n in notes]\n",
    "filtered = [n for n in notes if n in (\"A\", \"E\")]\n",
    "lower, lengths, filtered"
   ]
  },
  {
   "cell_type": "markdown",
   "id": "94a88a93-7327-4f31-8b3c-e44661f3071b",
   "metadata": {},
   "source": [
    "## 2) Tuples\n",
    "\n",
    "Almost like lists, but **immutable** (cannot be modified). Good for fixed records or to use as dictionary keys.\n"
   ]
  },
  {
   "cell_type": "code",
   "execution_count": 9,
   "id": "c65dae3f-67c9-4f07-ad83-f9ef3e7d3291",
   "metadata": {},
   "outputs": [
    {
     "name": "stdout",
     "output_type": "stream",
     "text": [
      "TypeError: 'tuple' object does not support item assignment\n"
     ]
    }
   ],
   "source": [
    "fruits = ('orange', 'apple', 'banana')\n",
    "try:\n",
    "    fruits[0] = 3\n",
    "except TypeError as e:\n",
    "    print(\"TypeError:\", e)\n"
   ]
  },
  {
   "cell_type": "code",
   "execution_count": 10,
   "id": "51e69bae-74ee-4fe0-aaa9-ab86e46710aa",
   "metadata": {},
   "outputs": [
    {
     "data": {
      "text/plain": [
       "(int, (5,), tuple, 'MySong', 120, 'C major')"
      ]
     },
     "execution_count": 10,
     "metadata": {},
     "output_type": "execute_result"
    }
   ],
   "source": [
    "# Creating tuples & unpacking\n",
    "t = (440, \"A4\")\n",
    "singleton_wrong = (5)     # this is just int 5\n",
    "singleton_right = (5,)    # tuple with one element\n",
    "\n",
    "track = (\"MySong\", 120, \"C major\")\n",
    "name, bpm, key = track\n",
    "\n",
    "type(singleton_wrong), singleton_right, type(singleton_right), name, bpm, key\n"
   ]
  },
  {
   "cell_type": "markdown",
   "id": "56f38322-7955-4a7a-9a4d-3d654b756431",
   "metadata": {},
   "source": [
    "## 3) Sets\n",
    "\n",
    "Use a **set** to represent a mathematical set:\n",
    "- **Unique** elements (duplicates removed)\n",
    "- Fast membership checks\n",
    "- Set algebra: union, intersection, difference, symmetric difference\n"
   ]
  },
  {
   "cell_type": "code",
   "execution_count": 11,
   "id": "a7415547-7959-40df-a773-5bcb22d27450",
   "metadata": {},
   "outputs": [
    {
     "name": "stdout",
     "output_type": "stream",
     "text": [
      "{'apple', 'banana', 'orange', 'pear'}\n",
      "True\n",
      "False\n",
      "{'apple', 'banana', 'orange', 345, 'pear'}\n",
      "{'apple', 'banana', 'orange', 345, 'pear'}\n",
      "TypeError: unhashable type: 'list'\n"
     ]
    }
   ],
   "source": [
    "# Examples from your notes (and expanded)\n",
    "basket = {'apple', 'orange', 'apple', 'pear', 'orange', 'banana'}\n",
    "print(basket)             # duplicates removed\n",
    "print('orange' in basket) # True\n",
    "print('crabgrass' in basket)  # False\n",
    "\n",
    "basket.add(345)\n",
    "print(basket)\n",
    "\n",
    "basket.add(\"banana\")      # already present; no change\n",
    "print(basket)\n",
    "\n",
    "try:\n",
    "    basket.add([\"una\", \"lista\"])   # lists are unhashable → error\n",
    "except TypeError as e:\n",
    "    print(\"TypeError:\", e)\n"
   ]
  },
  {
   "cell_type": "code",
   "execution_count": 12,
   "id": "c38b1433-0ed7-41d6-89ce-aaadf106aee3",
   "metadata": {},
   "outputs": [
    {
     "name": "stdout",
     "output_type": "stream",
     "text": [
      "a = {'r', 'b', 'c', 'a', 'd'}\n",
      "b = {'z', 'l', 'c', 'a', 'm'}\n",
      "a.isdisjoint(b) -> False\n",
      "a.issubset(b)  -> False\n",
      "a ∪ b          -> {'r', 'z', 'b', 'l', 'c', 'a', 'd', 'm'}\n",
      "a ∩ b          -> {'c', 'a'}\n",
      "a − b          -> {'b', 'd', 'r'}\n",
      "a △ b          -> {'r', 'l', 'z', 'b', 'd', 'm'}\n"
     ]
    }
   ],
   "source": [
    "# Set algebra (from your notes)\n",
    "a = set('abracadabra')\n",
    "b = set('alacazam')\n",
    "print(\"a =\", a)\n",
    "print(\"b =\", b)\n",
    "\n",
    "print(\"a.isdisjoint(b) ->\", a.isdisjoint(b))\n",
    "print(\"a.issubset(b)  ->\", a.issubset(b))\n",
    "print(\"a ∪ b          ->\", a.union(b))\n",
    "print(\"a ∩ b          ->\", a.intersection(b))\n",
    "print(\"a − b          ->\", a.difference(b))\n",
    "print(\"a △ b          ->\", a.symmetric_difference(b))\n"
   ]
  },
  {
   "cell_type": "code",
   "execution_count": 13,
   "id": "b4ab81a0-116e-4dc9-bf45-90e26365b39a",
   "metadata": {},
   "outputs": [
    {
     "data": {
      "text/plain": [
       "['pop', 'electronic', 'jazz', 'rock']"
      ]
     },
     "execution_count": 13,
     "metadata": {},
     "output_type": "execute_result"
    }
   ],
   "source": [
    "# De-duplicating with sets\n",
    "genres = [\"rock\", \"pop\", \"rock\", \"jazz\", \"pop\", \"electronic\"]\n",
    "unique_genres = list(set(genres))\n",
    "unique_genres\n"
   ]
  },
  {
   "cell_type": "markdown",
   "id": "57e026f8-f332-4f96-8314-54638dfdd505",
   "metadata": {},
   "source": [
    "## 4) Dictionaries\n",
    "\n",
    "Like a real-world dictionary: map a **key** (e.g., a word) to a **value** (e.g., a definition).\n",
    "\n",
    "Keys must be hashable (str, int, tuples of immutables).\n"
   ]
  },
  {
   "cell_type": "code",
   "execution_count": 31,
   "id": "ebd4797f-1d4a-4ef6-850f-3a233742c835",
   "metadata": {},
   "outputs": [
    {
     "name": "stdout",
     "output_type": "stream",
     "text": [
      "{'jack': 4098, 'sape': 4139}\n",
      "{'jack': 4098, 'sape': 4139, 'guido': 4127}\n",
      "4098\n",
      "{'jack': 4098, 'guido': 4127}\n",
      "True\n",
      "The history saving thread hit an unexpected error (OperationalError('attempt to write a readonly database')).History will not be written to the database.\n"
     ]
    }
   ],
   "source": [
    "\n",
    "tel = {'jack': 4098, 'sape': 4139}\n",
    "print(tel)\n",
    "\n",
    "tel['guido'] = 4127\n",
    "print(tel)\n",
    "\n",
    "print(tel['jack'])\n",
    "\n",
    "del tel['sape']\n",
    "print(tel)\n",
    "\n",
    "print('guido' in tel)\n"
   ]
  },
  {
   "cell_type": "code",
   "execution_count": 15,
   "id": "e86536ae-62c2-4182-910a-d2d16c44a00d",
   "metadata": {},
   "outputs": [
    {
     "data": {
      "text/plain": [
       "({'title': 'Autumn Leaves', 'bpm': 126, 'composer': 'Kosma'}, 'G minor')"
      ]
     },
     "execution_count": 15,
     "metadata": {},
     "output_type": "execute_result"
    }
   ],
   "source": [
    "# More dictionary patterns\n",
    "song = {\"title\": \"Autumn Leaves\", \"key\": \"G minor\", \"bpm\": 120}\n",
    "song[\"bpm\"] = 126              # update\n",
    "song[\"composer\"] = \"Kosma\"     # add\n",
    "removed = song.pop(\"key\")      # remove & return\n",
    "song, removed\n"
   ]
  },
  {
   "cell_type": "code",
   "execution_count": 16,
   "id": "dffc154e-5155-49fb-8d0e-699e1b90a921",
   "metadata": {},
   "outputs": [
    {
     "name": "stdout",
     "output_type": "stream",
     "text": [
      "name -> Alice\n",
      "instrument -> guitar\n",
      "followers -> 1200\n"
     ]
    },
    {
     "data": {
      "text/plain": [
       "(['name', 'instrument', 'followers'], ['Alice', 'guitar', 1200])"
      ]
     },
     "execution_count": 16,
     "metadata": {},
     "output_type": "execute_result"
    }
   ],
   "source": [
    "# Iteration & quick views\n",
    "artist = {\"name\": \"Alice\", \"instrument\": \"guitar\", \"followers\": 1200}\n",
    "\n",
    "for k, v in artist.items():\n",
    "    print(k, \"->\", v)\n",
    "\n",
    "list(artist.keys()), list(artist.values())\n"
   ]
  },
  {
   "cell_type": "code",
   "execution_count": 17,
   "id": "a7af9c51-2e02-46b0-a785-5ca9ae090ae0",
   "metadata": {},
   "outputs": [
    {
     "data": {
      "text/plain": [
       "{'intro': 5, 'verse': 5, 'chorus': 6, 'bridge': 6}"
      ]
     },
     "execution_count": 17,
     "metadata": {},
     "output_type": "execute_result"
    }
   ],
   "source": [
    "# Dict comprehension\n",
    "tracks = [\"intro\", \"verse\", \"chorus\", \"bridge\"]\n",
    "length_map = {t: len(t) for t in tracks}\n",
    "length_map\n"
   ]
  },
  {
   "cell_type": "markdown",
   "id": "d5eadbfe-909b-42e7-98d8-cb9de141410d",
   "metadata": {},
   "source": [
    "## 5) Copying vs Referencing (Important Pitfall)\n",
    "\n",
    "Assigning one variable to another does **not** copy the object; both names reference the same object.\n",
    "Use `copy()` or `deepcopy()` for actual copies.\n"
   ]
  },
  {
   "cell_type": "code",
   "execution_count": 18,
   "id": "fd628367-712c-4cb5-8678-ce3b060bf769",
   "metadata": {},
   "outputs": [
    {
     "data": {
      "text/plain": [
       "([1, 2, 3, 99], [1, 2, 3, 99], True)"
      ]
     },
     "execution_count": 18,
     "metadata": {},
     "output_type": "execute_result"
    }
   ],
   "source": [
    "# Referencing (same object)\n",
    "a = [1, 2, 3]\n",
    "b = a\n",
    "b.append(99)\n",
    "a, b, (a is b)\n"
   ]
  },
  {
   "cell_type": "code",
   "execution_count": 19,
   "id": "504dd382-6070-4683-8d7c-84b8143a195e",
   "metadata": {},
   "outputs": [
    {
     "data": {
      "text/plain": [
       "([[1, 99], [2]], [[1, 99], [2]], False, True)"
      ]
     },
     "execution_count": 19,
     "metadata": {},
     "output_type": "execute_result"
    }
   ],
   "source": [
    "# Shallow copy (top-level only)\n",
    "import copy\n",
    "\n",
    "a = [[1], [2]]\n",
    "b = a.copy()          # or list(a)\n",
    "b[0].append(99)       # inner list is shared\n",
    "a, b, (a is b), (a[0] is b[0])\n"
   ]
  },
  {
   "cell_type": "code",
   "execution_count": 20,
   "id": "8125877e-f153-4e06-9950-5ccf3ab5d2e8",
   "metadata": {},
   "outputs": [
    {
     "data": {
      "text/plain": [
       "([[1], [2]], [[1, 99], [2]], False)"
      ]
     },
     "execution_count": 20,
     "metadata": {},
     "output_type": "execute_result"
    }
   ],
   "source": [
    "# Deep copy (full independent copy)\n",
    "a = [[1], [2]]\n",
    "b = copy.deepcopy(a)\n",
    "b[0].append(99)\n",
    "a, b, (a[0] is b[0])\n"
   ]
  },
  {
   "cell_type": "markdown",
   "id": "84109982-e84b-4ced-85f0-f3f9197cdeb5",
   "metadata": {},
   "source": [
    "## 6) Comprehensions Recap\n",
    "\n",
    "- List: `[expr for x in iterable if condition]`\n",
    "- Set: `{expr for x in iterable}`\n",
    "- Dict: `{key_expr: val_expr for x in iterable}`\n"
   ]
  },
  {
   "cell_type": "code",
   "execution_count": 21,
   "id": "7471f579-e9cc-4983-983e-cda49826068e",
   "metadata": {},
   "outputs": [
    {
     "data": {
      "text/plain": [
       "([2, 4, 6], {1: 1, 2: 4, 3: 9, 4: 16, 5: 25, 6: 36}, {1, 2, 3})"
      ]
     },
     "execution_count": 21,
     "metadata": {},
     "output_type": "execute_result"
    }
   ],
   "source": [
    "nums = [1, 2, 3, 4, 5, 6]\n",
    "evens = [n for n in nums if n % 2 == 0]\n",
    "squares = {n: n*n for n in nums}\n",
    "unique_lengths = {len(w) for w in [\"a\", \"aa\", \"bbb\", \"aa\"]}\n",
    "evens, squares, unique_lengths\n"
   ]
  },
  {
   "cell_type": "markdown",
   "id": "ade4ba25-7dc5-4fc0-a2d8-b9ec4ce8892a",
   "metadata": {},
   "source": [
    "## 7) Choosing the Right Structure\n",
    "\n",
    "- **List**: sequence with order that you’ll modify (append/remove/sort).\n",
    "- **Tuple**: fixed-size record; safe to pass around (can be keys).\n",
    "- **Set**: unique items, membership tests, set operations.\n",
    "- **Dict**: labeled data/attributes, quick lookups by key.\n",
    "\n",
    "> Always consider correctness and efficiency for your use case.\n"
   ]
  },
  {
   "cell_type": "markdown",
   "id": "706f08d3-eb52-4138-a652-8df8d36fa242",
   "metadata": {},
   "source": [
    "## 8) Practice (Mini Exercises)\n",
    "\n",
    "1) Lists  \n",
    "- Create a list `temps = [18, 21, 19, 23, 22]`.  \n",
    "- Append `20`, remove `19`, and print the reversed list.\n",
    "\n",
    "2) Tuples  \n",
    "- Make a tuple `album = (\"Kind of Blue\", 1959, \"Miles Davis\")`.  \n",
    "- Unpack it into `title, year, artist` and print: `title (year) - artist`.\n",
    "\n",
    "3) Sets  \n",
    "- Given `tags = [\"jazz\", \"live\", \"jazz\", \"trio\", \"improv\", \"live\"]`, create a set of unique tags.  \n",
    "- Check if `\"fusion\"` is in the set; add it if not.\n",
    "\n",
    "4) Dicts  \n",
    "- Create `user = {\"name\": \"Vanessa\", \"role\": \"student\"}`.  \n",
    "- Add `\"courses\": [\"Python\", \"SQL\"]`, update `\"role\"` to `\"analyst\"`, and print keys & values.\n",
    "\n",
    "5) Comprehensions  \n",
    "- From `nums = [3, 6, 9, 12, 15]`, build a dict mapping each number to `\"even\"`/`\"odd\"`.  \n",
    "- Build a set of `len(word)` for `[\"data\", \"science\", \"ai\", \"ml\", \"python\"]`.\n"
   ]
  },
  {
   "cell_type": "markdown",
   "id": "365572ca-0dda-428f-8fb9-9d799cd67075",
   "metadata": {},
   "source": [
    "## 9) Challenge Exercises\n",
    "\n",
    "6) Frequency Counter (Dict)  \n",
    "- Given `words = [\"a\", \"b\", \"a\", \"c\", \"b\", \"a\"]`, build a dict of counts like `{\"a\": 3, \"b\": 2, \"c\": 1}` using a loop (no libraries).\n",
    "\n",
    "7) Unique & Sorted (Set + List)  \n",
    "- Given `emails = [\"a@x.com\",\"b@x.com\",\"a@x.com\",\"c@x.com\"]`, build a **sorted** list of unique emails.\n",
    "\n",
    "8) Nested Lookup (Dict of Dicts)  \n",
    "- Create `catalog = {\"guitar\": {\"price\": 800, \"stock\": 5}, \"piano\": {\"price\": 5000, \"stock\": 2}}`.  \n",
    "- Increase guitar stock by 2 and print the updated entry.\n",
    "\n",
    "9) Safe Get (Dict)  \n",
    "- Using `song = {\"title\": \"Blue\", \"bpm\": 92}`, print `song.get(\"key\", \"Unknown\")` and then set `song[\"key\"] = \"D\"` and print again.\n",
    "\n",
    "10) De-dup with Order (List + Set)  \n",
    "- From `names = [\"Ana\", \"Luis\", \"Ana\", \"Sofia\", \"Luis\", \"Karla\"]`, build a new list keeping **first occurrences only** and preserving order.\n"
   ]
  },
  {
   "cell_type": "code",
   "execution_count": null,
   "id": "c8cd923c-8694-4517-8227-7fc543e2b637",
   "metadata": {},
   "outputs": [],
   "source": []
  }
 ],
 "metadata": {
  "kernelspec": {
   "display_name": "Python 3 (ipykernel)",
   "language": "python",
   "name": "python3"
  },
  "language_info": {
   "codemirror_mode": {
    "name": "ipython",
    "version": 3
   },
   "file_extension": ".py",
   "mimetype": "text/x-python",
   "name": "python",
   "nbconvert_exporter": "python",
   "pygments_lexer": "ipython3",
   "version": "3.11.9"
  }
 },
 "nbformat": 4,
 "nbformat_minor": 5
}
