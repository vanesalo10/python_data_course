{
 "cells": [
  {
   "cell_type": "markdown",
   "id": "c2b8c430-0c7a-4ed5-bd79-b9524c5b0903",
   "metadata": {},
   "source": [
    "# Binary Files for Audio in Python (WAV, PCM) — Read/Write/Process\n",
    "\n",
    "In this section you will learn:\n",
    "- What PCM/WAV audio is (sample rate, channels, sample width)\n",
    "- Reading and writing binary audio with the standard libraries (`wave`, `numpy`, `scipy`)\n",
    "- Chunked reading, RMS power, normalization, downmixing (stereo→mono)\n",
    "- Basic resampling and silence trimming\n",
    "- Optional: handling non-WAV formats (MP3/FLAC) with `soundfile`, `librosa`, `pydub`\n",
    "\n",
    "**Key ideas**\n",
    "- WAV is a container; for uncompressed PCM, samples are typically 16-bit **signed** little-endian (`s16le`).\n",
    "- **Sample rate** (e.g., 44_100 Hz) = samples per second, per channel.\n",
    "- **Channels**: 1 (mono), 2 (stereo), etc.\n",
    "- **Sample width**: bytes per sample (2 bytes for 16-bit).\n",
    "\n",
    "We’ll generate a small test tone so you can run everything anywhere.\n"
   ]
  },
  {
   "cell_type": "code",
   "execution_count": 4,
   "id": "2784dee2-2d58-4482-ae52-97d47565d7a9",
   "metadata": {},
   "outputs": [],
   "source": [
    "# 0) Imports & output paths (no audioop here)\n",
    "from pathlib import Path\n",
    "import math, struct, contextlib\n",
    "import wave\n",
    "import numpy as np\n",
    "\n",
    "# Optional: high-quality resampling\n",
    "try:\n",
    "    from scipy.signal import resample_poly\n",
    "    HAVE_SCIPY = True\n",
    "except Exception as _:\n",
    "    HAVE_SCIPY = False\n",
    "\n",
    "DATA_DIR = Path(\"data_audio\")\n",
    "DATA_DIR.mkdir(exist_ok=True)\n",
    "TEST_WAV = DATA_DIR / \"test_tone_440Hz_mono_16bit_44k.wav\"\n"
   ]
  },
  {
   "cell_type": "code",
   "execution_count": 5,
   "id": "48bf19b2-8ab2-490a-ab74-acdf4303097e",
   "metadata": {},
   "outputs": [
    {
     "data": {
      "text/plain": [
       "True"
      ]
     },
     "execution_count": 5,
     "metadata": {},
     "output_type": "execute_result"
    }
   ],
   "source": [
    "HAVE_SCIPY"
   ]
  },
  {
   "cell_type": "markdown",
   "id": "4fbbdeb6-fb85-4bae-b3a4-de870f93e9b9",
   "metadata": {},
   "source": [
    "## 1) Generate a 1-second 440 Hz test tone (PCM 16-bit, mono, 44.1 kHz)"
   ]
  },
  {
   "cell_type": "code",
   "execution_count": 6,
   "id": "bac56af9-4816-4a56-b774-4d10fb324b9f",
   "metadata": {},
   "outputs": [
    {
     "data": {
      "text/plain": [
       "(PosixPath('data_audio/test_tone_440Hz_mono_16bit_44k.wav'), True, 88244)"
      ]
     },
     "execution_count": 6,
     "metadata": {},
     "output_type": "execute_result"
    }
   ],
   "source": [
    "def write_sine_wav(path: Path, freq=440.0, duration_sec=1.0, sr=44_100, amp=0.5):\n",
    "    \"\"\"Write a mono 16-bit PCM WAV sine wave.\"\"\"\n",
    "    n_frames = int(sr * duration_sec)\n",
    "    max_int16 = 32767\n",
    "    with wave.open(str(path), \"wb\") as wf:\n",
    "        wf.setnchannels(1)\n",
    "        wf.setsampwidth(2)      # 2 bytes = 16-bit\n",
    "        wf.setframerate(sr)\n",
    "        frames = bytearray()\n",
    "        for n in range(n_frames):\n",
    "            sample = amp * math.sin(2 * math.pi * freq * (n / sr))\n",
    "            s = int(max(-1.0, min(1.0, sample)) * max_int16)\n",
    "            frames += struct.pack(\"<h\", s)  # little-endian int16\n",
    "        wf.writeframes(frames)\n",
    "\n",
    "write_sine_wav(TEST_WAV)\n",
    "TEST_WAV, TEST_WAV.exists(), TEST_WAV.stat().st_size\n"
   ]
  },
  {
   "cell_type": "markdown",
   "id": "39c2b6d6-e772-4eee-8f22-5dbc6baf7edf",
   "metadata": {},
   "source": [
    "## 2) Inspect WAV metadata"
   ]
  },
  {
   "cell_type": "code",
   "execution_count": 7,
   "id": "6a15842f-2aa7-4280-ab61-411ae70b13f0",
   "metadata": {},
   "outputs": [
    {
     "data": {
      "text/plain": [
       "{'channels': 1,\n",
       " 'sampwidth': 2,\n",
       " 'samplerate': 44100,\n",
       " 'frames': 44100,\n",
       " 'duration': 1.0}"
      ]
     },
     "execution_count": 7,
     "metadata": {},
     "output_type": "execute_result"
    }
   ],
   "source": [
    "def wav_info(path: Path):\n",
    "    with contextlib.closing(wave.open(str(path), \"rb\")) as wf:\n",
    "        ch = wf.getnchannels()\n",
    "        sw = wf.getsampwidth()\n",
    "        sr = wf.getframerate()\n",
    "        n  = wf.getnframes()\n",
    "        dur = n / float(sr)\n",
    "    return dict(channels=ch, sampwidth=sw, samplerate=sr, frames=n, duration=dur)\n",
    "\n",
    "wav_info(TEST_WAV)\n"
   ]
  },
  {
   "cell_type": "markdown",
   "id": "54ff3094-d0e8-450a-9092-5a291d659d8c",
   "metadata": {},
   "source": [
    "## 3) Read WAV into NumPy and write back\n",
    "\n",
    "We’ll support **16-bit PCM** (most common).  \n",
    "The array shape will be `(frames, channels)` with dtype `int16`.\n"
   ]
  },
  {
   "cell_type": "code",
   "execution_count": 8,
   "id": "77222c71-4821-41f8-bb34-044569fe3049",
   "metadata": {},
   "outputs": [
    {
     "data": {
      "text/plain": [
       "((44100, 1), 44100, dtype('int16'))"
      ]
     },
     "execution_count": 8,
     "metadata": {},
     "output_type": "execute_result"
    }
   ],
   "source": [
    "def read_wav_np(path: Path) -> tuple[np.ndarray, int]:\n",
    "    \"\"\"Return (audio_int16, samplerate). Shape: (frames, channels).\"\"\"\n",
    "    with contextlib.closing(wave.open(str(path), \"rb\")) as wf:\n",
    "        ch = wf.getnchannels()\n",
    "        sw = wf.getsampwidth()\n",
    "        sr = wf.getframerate()\n",
    "        n  = wf.getnframes()\n",
    "        assert sw == 2, f\"Only 16-bit WAV supported here; got sampwidth={sw}\"\n",
    "        raw = wf.readframes(n)\n",
    "    x = np.frombuffer(raw, dtype=np.int16)\n",
    "    if ch > 1:\n",
    "        x = x.reshape(-1, ch)\n",
    "    else:\n",
    "        x = x.reshape(-1, 1)\n",
    "    return x.copy(), sr  # copy so it's writable\n",
    "\n",
    "def write_wav_np(path: Path, x: np.ndarray, sr: int):\n",
    "    \"\"\"\n",
    "    Write int16 array to WAV. Accepts shape (frames,) or (frames, channels).\n",
    "    If float array in [-1,1], it will be scaled to int16.\n",
    "    \"\"\"\n",
    "    x = np.asarray(x)\n",
    "    if x.ndim == 1:\n",
    "        x = x[:, None]\n",
    "    if x.dtype.kind == \"f\":\n",
    "        x = np.clip(x, -1.0, 1.0)\n",
    "        x = (x * 32767.0).astype(np.int16)\n",
    "    elif x.dtype != np.int16:\n",
    "        x = x.astype(np.int16)\n",
    "\n",
    "    ch = x.shape[1]\n",
    "    with wave.open(str(path), \"wb\") as wf:\n",
    "        wf.setnchannels(ch)\n",
    "        wf.setsampwidth(2)\n",
    "        wf.setframerate(sr)\n",
    "        wf.writeframes(x.tobytes())\n",
    "\n",
    "x_mono, sr = read_wav_np(TEST_WAV)\n",
    "x_mono.shape, sr, x_mono.dtype\n"
   ]
  },
  {
   "cell_type": "markdown",
   "id": "c3c6ad30-1670-4aff-a878-c6d7e38f24de",
   "metadata": {},
   "source": [
    "## 4) RMS power (overall and per-channel)\n"
   ]
  },
  {
   "cell_type": "code",
   "execution_count": 9,
   "id": "6665b14d-3575-4509-ad8d-171dcac9b4a0",
   "metadata": {},
   "outputs": [
    {
     "data": {
      "text/plain": [
       "(11584.434884910057, array([11584.43488491]))"
      ]
     },
     "execution_count": 9,
     "metadata": {},
     "output_type": "execute_result"
    }
   ],
   "source": [
    "def rms_np(x: np.ndarray) -> float:\n",
    "    \"\"\"Overall RMS of int16/float array (all channels).\"\"\"\n",
    "    x_f = x.astype(np.float64)\n",
    "    return float(np.sqrt(np.mean(x_f**2)))\n",
    "\n",
    "def rms_per_channel(x: np.ndarray) -> np.ndarray:\n",
    "    \"\"\"RMS per channel. Shape (channels,).\"\"\"\n",
    "    x_f = x.astype(np.float64)\n",
    "    return np.sqrt(np.mean(x_f**2, axis=0))\n",
    "\n",
    "rms_overall = rms_np(x_mono)\n",
    "rms_channels = rms_per_channel(x_mono)\n",
    "rms_overall, rms_channels\n"
   ]
  },
  {
   "cell_type": "markdown",
   "id": "beedebda-4c03-49fe-82d6-11499d90f428",
   "metadata": {},
   "source": [
    "## 5) Peak normalization (no clipping)\n",
    "\n",
    "Scale so the maximum absolute sample reaches a target (e.g., 0.95 of full-scale).\n"
   ]
  },
  {
   "cell_type": "code",
   "execution_count": 10,
   "id": "bd9af306-b56f-4a2e-a5c8-3ff51b3a9057",
   "metadata": {},
   "outputs": [
    {
     "data": {
      "text/plain": [
       "({'channels': 1,\n",
       "  'sampwidth': 2,\n",
       "  'samplerate': 44100,\n",
       "  'frames': 44100,\n",
       "  'duration': 1.0},\n",
       " 22010.65738641881)"
      ]
     },
     "execution_count": 10,
     "metadata": {},
     "output_type": "execute_result"
    }
   ],
   "source": [
    "def normalize_peak_int16(x: np.ndarray, target: float = 0.95) -> np.ndarray:\n",
    "    \"\"\"\n",
    "    Peak-normalize an int16/float array to target*32767.\n",
    "    Returns int16 array.\n",
    "    \"\"\"\n",
    "    x_f = x.astype(np.float64)\n",
    "    peak = np.max(np.abs(x_f))\n",
    "    if peak == 0:\n",
    "        return x.astype(np.int16)\n",
    "    scale = (target * 32767.0) / peak\n",
    "    y = x_f * scale\n",
    "    y = np.clip(y, -32768, 32767)\n",
    "    return y.astype(np.int16)\n",
    "\n",
    "x_norm = normalize_peak_int16(x_mono, target=0.95)\n",
    "out_norm = DATA_DIR / \"test_tone_normalized_np.wav\"\n",
    "write_wav_np(out_norm, x_norm, sr)\n",
    "wav_info(out_norm), rms_np(x_norm)\n"
   ]
  },
  {
   "cell_type": "markdown",
   "id": "a9e07685-0240-4ca2-b273-d76d83b2f712",
   "metadata": {},
   "source": [
    "## 6) Stereo/Mono conversions (downmix & upmix)"
   ]
  },
  {
   "cell_type": "code",
   "execution_count": 11,
   "id": "70e4955d-149c-49bf-9bfe-054d67664434",
   "metadata": {},
   "outputs": [
    {
     "data": {
      "text/plain": [
       "({'channels': 2,\n",
       "  'sampwidth': 2,\n",
       "  'samplerate': 44100,\n",
       "  'frames': 44100,\n",
       "  'duration': 1.0},\n",
       " {'channels': 1,\n",
       "  'sampwidth': 2,\n",
       "  'samplerate': 44100,\n",
       "  'frames': 44100,\n",
       "  'duration': 1.0})"
      ]
     },
     "execution_count": 11,
     "metadata": {},
     "output_type": "execute_result"
    }
   ],
   "source": [
    "def to_stereo_from_mono(x_mono: np.ndarray) -> np.ndarray:\n",
    "    \"\"\"Duplicate mono channel to stereo.\"\"\"\n",
    "    if x_mono.ndim == 1:\n",
    "        x_mono = x_mono[:, None]\n",
    "    assert x_mono.shape[1] == 1, \"Input must be mono\"\n",
    "    return np.repeat(x_mono, 2, axis=1)\n",
    "\n",
    "def downmix_stereo_to_mono(x_stereo: np.ndarray, method: str = \"avg\") -> np.ndarray:\n",
    "    \"\"\"Downmix stereo to mono by averaging or summing (avg is safe).\"\"\"\n",
    "    assert x_stereo.shape[1] == 2, \"Input must be stereo\"\n",
    "    if method == \"sum\":\n",
    "        y = x_stereo.sum(axis=1, dtype=np.int64)  # avoid overflow\n",
    "        # clip to int16 range\n",
    "        y = np.clip(y, -32768, 32767).astype(np.int16)\n",
    "        return y[:, None]\n",
    "    # default: average\n",
    "    y = x_stereo.astype(np.int32).mean(axis=1)\n",
    "    return y.astype(np.int16)[:, None]\n",
    "\n",
    "# Make a stereo file from mono (duplicate channels)\n",
    "x_stereo = to_stereo_from_mono(x_mono)\n",
    "stereo_wav = DATA_DIR / \"test_tone_stereo_np.wav\"\n",
    "write_wav_np(stereo_wav, x_stereo, sr)\n",
    "\n",
    "# Downmix back to mono\n",
    "x_mono2 = downmix_stereo_to_mono(x_stereo, method=\"avg\")\n",
    "downmix_wav = DATA_DIR / \"test_tone_downmixed_mono_np.wav\"\n",
    "write_wav_np(downmix_wav, x_mono2, sr)\n",
    "wav_info(stereo_wav), wav_info(downmix_wav)\n"
   ]
  },
  {
   "cell_type": "markdown",
   "id": "32b74987-cba6-4186-88ab-6a01cc3a4673",
   "metadata": {},
   "source": [
    "## 7) Resampling with `scipy.signal.resample_poly` (quality & speed)\n",
    "\n",
    "If `scipy` is unavailable, show a message to install it.\n"
   ]
  },
  {
   "cell_type": "code",
   "execution_count": 12,
   "id": "4788f80a-cbad-4f87-a9b8-9af452814e6f",
   "metadata": {},
   "outputs": [],
   "source": [
    "def resample_np(x: np.ndarray, src_sr: int, dst_sr: int) -> np.ndarray:\n",
    "    \"\"\"\n",
    "    Resample (frames, channels) from src_sr to dst_sr using polyphase filtering.\n",
    "    Requires scipy. Returns int16 array.\n",
    "    \"\"\"\n",
    "    if not HAVE_SCIPY:\n",
    "        raise RuntimeError(\"scipy not available. Install with `pip install scipy`.\")\n",
    "    # Work in float to avoid quantization during filtering\n",
    "    x_f = x.astype(np.float64)\n",
    "    # Compute up/down factors\n",
    "    from math import gcd\n",
    "    g = gcd(src_sr, dst_sr)\n",
    "    up, down = dst_sr // g, src_sr // g\n",
    "    y = resample_poly(x_f, up, down, axis=0)\n",
    "    # Back to int16\n",
    "    y = np.clip(y, -32768, 32767)\n",
    "    return y.astype(np.int16)\n",
    "\n",
    "if HAVE_SCIPY:\n",
    "    x_22k = resample_np(x_mono, sr, 22_050)\n",
    "    out_22k = DATA_DIR / \"test_tone_22k_mono_np.wav\"\n",
    "    write_wav_np(out_22k, x_22k, 22_050)\n",
    "    wav_info(out_22k)\n",
    "else:\n",
    "    print(\"Install scipy for resampling: pip install scipy\")\n"
   ]
  },
  {
   "cell_type": "markdown",
   "id": "8feec35e-6457-4c79-b484-24eb549d894b",
   "metadata": {},
   "source": [
    "## 8) Trim leading/trailing silence (threshold on absolute amplitude)\n",
    "\n",
    "Works for mono or stereo. Threshold is in **int16 units** (0–32767).  \n",
    "We scan in frames of `frame_len` samples for speed.\n"
   ]
  },
  {
   "cell_type": "code",
   "execution_count": 13,
   "id": "6c3e572b-02e8-4bb2-b6fd-b0529e2e7d3f",
   "metadata": {},
   "outputs": [
    {
     "data": {
      "text/plain": [
       "{'channels': 1,\n",
       " 'sampwidth': 2,\n",
       " 'samplerate': 44100,\n",
       " 'frames': 44100,\n",
       " 'duration': 1.0}"
      ]
     },
     "execution_count": 13,
     "metadata": {},
     "output_type": "execute_result"
    }
   ],
   "source": [
    "def trim_silence_int16(x: np.ndarray, threshold: int = 500, frame_len: int = 1024) -> np.ndarray:\n",
    "    \"\"\"\n",
    "    Trim silence from start/end of an int16 waveform (mono or stereo).\n",
    "    Silence if max(abs(frame)) <= threshold across all channels.\n",
    "    \"\"\"\n",
    "    if x.ndim == 1:\n",
    "        x = x[:, None]\n",
    "    n = x.shape[0]\n",
    "    # find start\n",
    "    start = 0\n",
    "    for i in range(0, n, frame_len):\n",
    "        frame = x[i:i+frame_len]\n",
    "        if frame.size == 0:\n",
    "            break\n",
    "        if np.max(np.abs(frame)) > threshold:\n",
    "            start = i\n",
    "            break\n",
    "    # find end\n",
    "    end = n\n",
    "    for j in range(n, 0, -frame_len):\n",
    "        frame = x[max(0, j-frame_len):j]\n",
    "        if np.max(np.abs(frame)) > threshold:\n",
    "            end = j\n",
    "            break\n",
    "    y = x[start:end]\n",
    "    return y.astype(np.int16)\n",
    "\n",
    "x_trim = trim_silence_int16(x_mono, threshold=200)\n",
    "trim_wav = DATA_DIR / \"test_tone_trimmed_np.wav\"\n",
    "write_wav_np(trim_wav, x_trim, sr)\n",
    "wav_info(trim_wav)\n"
   ]
  },
  {
   "cell_type": "markdown",
   "id": "8db11372-0661-4b4d-ba1b-8d64b9343e1f",
   "metadata": {},
   "source": [
    "## 9) Raw binary copy (any file) — no audio-specific APIs needed\n"
   ]
  },
  {
   "cell_type": "code",
   "execution_count": 14,
   "id": "f6928c7c-c5d5-41d7-a6c9-9ebedc4ed977",
   "metadata": {},
   "outputs": [
    {
     "data": {
      "text/plain": [
       "(True, True)"
      ]
     },
     "execution_count": 14,
     "metadata": {},
     "output_type": "execute_result"
    }
   ],
   "source": [
    "src = TEST_WAV\n",
    "dst = DATA_DIR / \"test_tone_copy_np.wav\"\n",
    "\n",
    "with open(src, \"rb\") as f_in, open(dst, \"wb\") as f_out:\n",
    "    while True:\n",
    "        block = f_in.read(8192)\n",
    "        if not block:\n",
    "            break\n",
    "        f_out.write(block)\n",
    "\n",
    "dst.exists(), dst.stat().st_size == src.stat().st_size\n"
   ]
  },
  {
   "cell_type": "markdown",
   "id": "66dc1c53-22bc-40a1-855d-29dfdb675085",
   "metadata": {},
   "source": [
    "## 10) Optional: broader format support (MP3/FLAC/OGG)\n",
    "\n",
    "The standard library handles WAV/AIFF easily. For compressed formats:\n",
    "\n",
    "- **soundfile** (`pip install soundfile`) — reads/writes WAV, FLAC, OGG (not MP3)\n",
    "- **librosa** (`pip install librosa`) — convenient loading/resampling to float arrays\n",
    "- **pydub** (`pip install pydub`, requires ffmpeg) — easy convert/export MP3↔WAV\n",
    "\n",
    "Run the cells below only if you have these installed (or install first).\n"
   ]
  },
  {
   "cell_type": "code",
   "execution_count": 16,
   "id": "71ce010c-2c5b-40cb-8667-5fa2f70267ef",
   "metadata": {},
   "outputs": [
    {
     "name": "stdout",
     "output_type": "stream",
     "text": [
      "soundfile example skipped: No module named 'soundfile'\n"
     ]
    }
   ],
   "source": [
    "# soundfile example (FLAC/OGG/WAV). Not for MP3.\n",
    "# !pip install soundfile\n",
    "try:\n",
    "    import soundfile as sf\n",
    "    import numpy as np\n",
    "\n",
    "    # Write a float WAV (stereo) from numpy\n",
    "    sr = 48_000\n",
    "    t = np.linspace(0, 1.0, sr, endpoint=False)\n",
    "    tone_l = 0.3*np.sin(2*np.pi*440*t)\n",
    "    tone_r = 0.3*np.sin(2*np.pi*660*t)\n",
    "    stereo = np.stack([tone_l, tone_r], axis=1)  # shape (n, 2)\n",
    "    sf_path = DATA_DIR / \"sf_stereo_float.wav\"\n",
    "    sf.write(sf_path, stereo, sr, subtype=\"PCM_16\")  # write as 16-bit PCM\n",
    "    print(\"Wrote:\", sf_path)\n",
    "\n",
    "    # Read back (works for FLAC, OGG, WAV)\n",
    "    data_arr, sr_read = sf.read(sf_path, always_2d=True)\n",
    "    data_arr.shape, sr_read\n",
    "except Exception as e:\n",
    "    print(\"soundfile example skipped:\", e)\n"
   ]
  },
  {
   "cell_type": "code",
   "execution_count": 17,
   "id": "89bb7a64-0a1e-4764-83e7-d039fcff05ba",
   "metadata": {},
   "outputs": [
    {
     "name": "stdout",
     "output_type": "stream",
     "text": [
      "librosa example skipped: No module named 'librosa'\n"
     ]
    }
   ],
   "source": [
    "# librosa example (convenient loader + resampling)\n",
    "# !pip install librosa soundfile\n",
    "try:\n",
    "    import librosa, soundfile as sf\n",
    "\n",
    "    y, sr = librosa.load(str(TEST_WAV), sr=None, mono=True)  # y: float32 [-1,1]\n",
    "    y_22k = librosa.resample(y, orig_sr=sr, target_sr=22_050)\n",
    "    out_lr = DATA_DIR / \"librosa_resampled_22k.wav\"\n",
    "    sf.write(out_lr, y_22k, 22_050, subtype=\"PCM_16\")\n",
    "    out_lr, len(y), len(y_22k)\n",
    "except Exception as e:\n",
    "    print(\"librosa example skipped:\", e)\n"
   ]
  },
  {
   "cell_type": "code",
   "execution_count": 18,
   "id": "24bf57c5-67dc-4ba3-a996-7fabeca485a1",
   "metadata": {},
   "outputs": [
    {
     "name": "stdout",
     "output_type": "stream",
     "text": [
      "pydub example skipped: No module named 'pydub'\n"
     ]
    }
   ],
   "source": [
    "# pydub example (needs ffmpeg installed in system PATH)\n",
    "# !pip install pydub\n",
    "try:\n",
    "    from pydub import AudioSegment\n",
    "\n",
    "    # Convert WAV -> MP3 -> WAV (if ffmpeg available)\n",
    "    wav_path = TEST_WAV\n",
    "    mp3_path = DATA_DIR / \"tone.mp3\"\n",
    "    wav2_path = DATA_DIR / \"tone_back_to_wav.wav\"\n",
    "\n",
    "    seg = AudioSegment.from_wav(wav_path)\n",
    "    seg.export(mp3_path, format=\"mp3\", bitrate=\"192k\")\n",
    "    seg2 = AudioSegment.from_mp3(mp3_path)\n",
    "    seg2.export(wav2_path, format=\"wav\")\n",
    "    mp3_path.exists(), wav2_path.exists()\n",
    "except Exception as e:\n",
    "    print(\"pydub example skipped:\", e)\n"
   ]
  },
  {
   "cell_type": "code",
   "execution_count": null,
   "id": "d3210944-33cb-4611-a915-9283d431e089",
   "metadata": {},
   "outputs": [],
   "source": []
  }
 ],
 "metadata": {
  "kernelspec": {
   "display_name": "Python 3 (ipykernel)",
   "language": "python",
   "name": "python3"
  },
  "language_info": {
   "codemirror_mode": {
    "name": "ipython",
    "version": 3
   },
   "file_extension": ".py",
   "mimetype": "text/x-python",
   "name": "python",
   "nbconvert_exporter": "python",
   "pygments_lexer": "ipython3",
   "version": "3.11.9"
  }
 },
 "nbformat": 4,
 "nbformat_minor": 5
}
