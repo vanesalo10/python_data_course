{
 "cells": [
  {
   "cell_type": "markdown",
   "id": "3290ca37-0a98-4b52-b882-9a65eebe48f4",
   "metadata": {},
   "source": [
    "# Programming Fundamentals & OOP in Python\n",
    "In this notebook you'll learn:\n",
    "- Functions: definitions, parameters, return values, scope\n",
    "- Docstrings & type hints\n",
    "- Higher-order functions, lambdas, closures, decorators (intro)\n",
    "- Classes & objects: attributes, methods, special methods\n",
    "- Class vs. instance attributes; class/static methods; properties\n",
    "- Dataclasses\n",
    "- Inheritance, polymorphism, composition\n",
    "- Equality, ordering, and hashing (dunder methods)\n",
    "- Practical exercises"
   ]
  },
  {
   "cell_type": "markdown",
   "id": "9b9b29d0-e20b-4c75-9a58-115894292dda",
   "metadata": {},
   "source": [
    "## 0) Why Functions and OOP?\n",
    "- **Functions**: name reusable logic; make code clear and testable.\n",
    "- **OOP**: bundle data **(state)** and behavior **(methods)** in objects; model real-world entities.\n"
   ]
  },
  {
   "cell_type": "markdown",
   "id": "208f8090-d58e-4da3-ae77-81ec8a4ab1d4",
   "metadata": {},
   "source": [
    "## 1) Functions — Fundamentals\n"
   ]
  },
  {
   "cell_type": "code",
   "execution_count": 1,
   "id": "826795ef-d56e-4678-99ff-130f806f452a",
   "metadata": {},
   "outputs": [
    {
     "data": {
      "text/plain": [
       "'Hello, Vanessa!'"
      ]
     },
     "execution_count": 1,
     "metadata": {},
     "output_type": "execute_result"
    }
   ],
   "source": [
    "# A simple function\n",
    "def greet(name):\n",
    "    return f\"Hello, {name}!\"\n",
    "\n",
    "greet(\"Vanessa\")\n"
   ]
  },
  {
   "cell_type": "code",
   "execution_count": 2,
   "id": "25ff8202-b52e-4252-9f66-ad09a286d930",
   "metadata": {},
   "outputs": [
    {
     "name": "stdout",
     "output_type": "stream",
     "text": [
      "25\n",
      "256\n"
     ]
    }
   ],
   "source": [
    "# Parameters, default values, keyword arguments\n",
    "def power(base, exp=2):\n",
    "    return base ** exp\n",
    "\n",
    "print(power(5))         # 25\n",
    "print(power(2, exp=8))  # 256"
   ]
  },
  {
   "cell_type": "code",
   "execution_count": 3,
   "id": "61376178-8d6c-4a7b-8369-e32a8b9c43c6",
   "metadata": {},
   "outputs": [
    {
     "data": {
      "text/plain": [
       "(2, 10, 6.0)"
      ]
     },
     "execution_count": 3,
     "metadata": {},
     "output_type": "execute_result"
    }
   ],
   "source": [
    "# Multiple return values (actually a tuple)\n",
    "def min_max_avg(nums):\n",
    "    total = sum(nums)\n",
    "    return min(nums), max(nums), total / len(nums)\n",
    "\n",
    "mn, mx, avg = min_max_avg([2, 8, 10, 4])\n",
    "mn, mx, round(avg, 2)\n"
   ]
  },
  {
   "cell_type": "code",
   "execution_count": 4,
   "id": "c398e196-3cf3-4847-9274-4169a16377e7",
   "metadata": {},
   "outputs": [
    {
     "data": {
      "text/plain": [
       "((1, 2), {'a': 3, 'b': 4})"
      ]
     },
     "execution_count": 4,
     "metadata": {},
     "output_type": "execute_result"
    }
   ],
   "source": [
    "# Variable-length args: *args and **kwargs\n",
    "def demo_args(*args, **kwargs):\n",
    "    return args, kwargs\n",
    "\n",
    "demo_args(1, 2, a=3, b=4)\n"
   ]
  },
  {
   "cell_type": "markdown",
   "id": "64af7800-d256-4221-ba2d-92fd7b7bb236",
   "metadata": {},
   "source": [
    "### Scope rules\n",
    "- Names defined inside a function are **local**.\n",
    "- Names defined at top level are **global** (avoid mutating globals).\n",
    "- `nonlocal` lets inner functions modify outer (enclosing) scope variables.\n"
   ]
  },
  {
   "cell_type": "code",
   "execution_count": 5,
   "id": "6ff47c82-9523-41a6-bb35-456b7ee4fb5e",
   "metadata": {},
   "outputs": [
    {
     "data": {
      "text/plain": [
       "(99, 10, 10)"
      ]
     },
     "execution_count": 5,
     "metadata": {},
     "output_type": "execute_result"
    }
   ],
   "source": [
    "x = 10  # global\n",
    "\n",
    "def use_local():\n",
    "    x = 99  # shadows global\n",
    "    return x\n",
    "\n",
    "def read_global():\n",
    "    return x\n",
    "\n",
    "use_local(), read_global(), x\n"
   ]
  },
  {
   "cell_type": "markdown",
   "id": "a91947fd-94c8-413a-8be3-9080462231a3",
   "metadata": {},
   "source": [
    "## 2) Docstrings & Type Hints\n",
    "- **Docstrings** explain *what* a function/class does, arguments, returns.\n",
    "- **Type hints** help tools & readers (no runtime enforcement by default).\n"
   ]
  },
  {
   "cell_type": "code",
   "execution_count": 7,
   "id": "c90bab59-cc8c-478a-8ac4-988d28403f30",
   "metadata": {},
   "outputs": [
    {
     "data": {
      "text/plain": [
       "[-0.5, 0.5, 1.5]"
      ]
     },
     "execution_count": 7,
     "metadata": {},
     "output_type": "execute_result"
    }
   ],
   "source": [
    "def normalize(values: list[float], offset: float = 0.0) -> list[float]:\n",
    "    \"\"\"\n",
    "    Normalize a list by subtracting the mean and adding an optional offset.\n",
    "\n",
    "    Args:\n",
    "        values: A list of numeric values.\n",
    "        offset: A value to add after centering (default: 0.0).\n",
    "\n",
    "    Returns:\n",
    "        A new list with mean-centered values plus offset.\n",
    "    \"\"\"\n",
    "    if not values:\n",
    "        return []\n",
    "    m = sum(values) / len(values)\n",
    "    return [(v - m) + offset for v in values]\n",
    "\n",
    "normalize([1.0, 2.0, 3.0], offset=0.5)\n"
   ]
  },
  {
   "cell_type": "markdown",
   "id": "a4226cf5-8640-414b-a97c-f588c45c533a",
   "metadata": {},
   "source": [
    "### De aquí en adelante los temas son un poco avanzados, no es necesario que entiendas 100% la primera vez. Tampoco son cosas que se usen muy a menudo en manejo de datos. Pero debes saber que existen "
   ]
  },
  {
   "cell_type": "markdown",
   "id": "5568bb4c-5986-44e6-b87d-65ec44dba5c2",
   "metadata": {},
   "source": [
    "## 3) Higher-Order Functions, Lambdas, Closures\n"
   ]
  },
  {
   "cell_type": "code",
   "execution_count": 8,
   "id": "7ccaa7d8-f9f1-4788-86e2-b66901b62c3b",
   "metadata": {},
   "outputs": [
    {
     "data": {
      "text/plain": [
       "([1, 4, 9, 16, 25, 36], [2, 4, 6])"
      ]
     },
     "execution_count": 8,
     "metadata": {},
     "output_type": "execute_result"
    }
   ],
   "source": [
    "# Lambda + map/filter examples\n",
    "nums = [1, 2, 3, 4, 5, 6]\n",
    "squared = list(map(lambda n: n * n, nums))\n",
    "evens = list(filter(lambda n: n % 2 == 0, nums))\n",
    "squared, evens\n"
   ]
  },
  {
   "cell_type": "code",
   "execution_count": 9,
   "id": "e217cfdb-6dd4-481b-9cf2-56e0b0ebebdf",
   "metadata": {},
   "outputs": [
    {
     "data": {
      "text/plain": [
       "(20, 30)"
      ]
     },
     "execution_count": 9,
     "metadata": {},
     "output_type": "execute_result"
    }
   ],
   "source": [
    "# Closure: a function capturing variables from an enclosing scope\n",
    "def make_multiplier(k: int):\n",
    "    def mul(x: int) -> int:\n",
    "        return k * x\n",
    "    return mul\n",
    "\n",
    "double = make_multiplier(2)\n",
    "triple = make_multiplier(3)\n",
    "double(10), triple(10)\n"
   ]
  },
  {
   "cell_type": "markdown",
   "id": "49c50d30-e751-4c8f-bbe7-6dee904ba34f",
   "metadata": {},
   "source": [
    "## 4) Decorators (Intro)\n",
    "A **decorator** takes a function and returns a new function with extra behavior.\n"
   ]
  },
  {
   "cell_type": "code",
   "execution_count": 10,
   "id": "9152010f-2576-4f5f-8763-5abed88f8f38",
   "metadata": {},
   "outputs": [
    {
     "name": "stdout",
     "output_type": "stream",
     "text": [
      "slow_add took 53.76 ms\n"
     ]
    },
    {
     "data": {
      "text/plain": [
       "5"
      ]
     },
     "execution_count": 10,
     "metadata": {},
     "output_type": "execute_result"
    }
   ],
   "source": [
    "import time\n",
    "from functools import wraps\n",
    "\n",
    "def timing(fn):\n",
    "    @wraps(fn)\n",
    "    def wrapper(*args, **kwargs):\n",
    "        t0 = time.perf_counter()\n",
    "        try:\n",
    "            return fn(*args, **kwargs)\n",
    "        finally:\n",
    "            dt = (time.perf_counter() - t0) * 1000\n",
    "            print(f\"{fn.__name__} took {dt:.2f} ms\")\n",
    "    return wrapper\n",
    "\n",
    "@timing\n",
    "def slow_add(a, b):\n",
    "    time.sleep(0.05)\n",
    "    return a + b\n",
    "\n",
    "slow_add(2, 3)\n"
   ]
  },
  {
   "cell_type": "markdown",
   "id": "87238414-fce3-4e1e-b194-274b0f2dc835",
   "metadata": {},
   "source": [
    "## 5) Classes & Objects — Basics\n",
    "A class defines a **blueprint**; an object (instance) holds data and methods.\n",
    "\n",
    "We'll model a **Track**.\n"
   ]
  },
  {
   "cell_type": "code",
   "execution_count": 11,
   "id": "079c6fe7-0960-4fee-a5ee-e9b6445c53c0",
   "metadata": {},
   "outputs": [
    {
     "data": {
      "text/plain": [
       "'Autumn Leaves by Kosma @ 120 bpm'"
      ]
     },
     "execution_count": 11,
     "metadata": {},
     "output_type": "execute_result"
    }
   ],
   "source": [
    "class Track:\n",
    "    def __init__(self, title: str, artist: str, bpm: int | None = None):\n",
    "        self.title = title\n",
    "        self.artist = artist\n",
    "        self.bpm = bpm  # instance attribute\n",
    "\n",
    "    def describe(self) -> str:\n",
    "        bpm_txt = f\" @ {self.bpm} bpm\" if self.bpm is not None else \"\"\n",
    "        return f\"{self.title} by {self.artist}{bpm_txt}\"\n",
    "\n",
    "    def set_bpm(self, bpm: int) -> None:\n",
    "        if bpm <= 0:\n",
    "            raise ValueError(\"BPM must be positive\")\n",
    "        self.bpm = bpm\n",
    "\n",
    "t = Track(\"Autumn Leaves\", \"Kosma\", bpm=120)\n",
    "t.describe()\n"
   ]
  },
  {
   "cell_type": "markdown",
   "id": "84763006-af37-47b7-bef3-3872886672d9",
   "metadata": {},
   "source": [
    "### `__init__`, `__repr__`, `__str__`\n",
    "- `__init__`: constructor (initialization)\n",
    "- `__repr__`: unambiguous representation (debugging)\n",
    "- `__str__`: user-friendly string\n"
   ]
  },
  {
   "cell_type": "code",
   "execution_count": 12,
   "id": "de3704ed-0e7e-4ae1-8e8e-fa100e7a4cf3",
   "metadata": {},
   "outputs": [
    {
     "data": {
      "text/plain": [
       "('Point(x=1.2, y=3.4)', '(1.2, 3.4)')"
      ]
     },
     "execution_count": 12,
     "metadata": {},
     "output_type": "execute_result"
    }
   ],
   "source": [
    "class Point:\n",
    "    def __init__(self, x: float, y: float):\n",
    "        self.x, self.y = x, y\n",
    "\n",
    "    def __repr__(self) -> str:\n",
    "        return f\"Point(x={self.x!r}, y={self.y!r})\"\n",
    "\n",
    "    def __str__(self) -> str:\n",
    "        return f\"({self.x}, {self.y})\"\n",
    "\n",
    "p = Point(1.2, 3.4)\n",
    "repr(p), str(p)\n"
   ]
  },
  {
   "cell_type": "code",
   "execution_count": 13,
   "id": "e31a2497-ac4e-4c08-927c-f8ad94b944a7",
   "metadata": {},
   "outputs": [
    {
     "data": {
      "text/plain": [
       "(False, False, '3:05')"
      ]
     },
     "execution_count": 13,
     "metadata": {},
     "output_type": "execute_result"
    }
   ],
   "source": [
    "class Playlist:\n",
    "    default_public = False  # class attribute (shared)\n",
    "\n",
    "    def __init__(self, name: str, public: bool | None = None):\n",
    "        self.name = name\n",
    "        self.public = Playlist.default_public if public is None else public\n",
    "        self.tracks: list[Track] = []\n",
    "\n",
    "    def add(self, track: Track) -> None:\n",
    "        self.tracks.append(track)\n",
    "\n",
    "    @classmethod\n",
    "    def make_public_by_default(cls):\n",
    "        cls.default_public = True\n",
    "\n",
    "    @staticmethod\n",
    "    def seconds_to_minsec(seconds: int) -> str:\n",
    "        return f\"{seconds // 60}:{seconds % 60:02d}\"\n",
    "\n",
    "pl = Playlist(\"Morning Mix\")\n",
    "pl.add(Track(\"Blue in Green\", \"Davis\", bpm=60))\n",
    "pl.public, Playlist.default_public, Playlist.seconds_to_minsec(185)\n"
   ]
  },
  {
   "cell_type": "markdown",
   "id": "10b1ab8b-d7ee-4825-bb47-4abe9dc64be5",
   "metadata": {},
   "source": [
    "## 7) Properties — Computed & Validated Attributes\n",
    "Use `@property` to expose a computed attribute or attach validation on set.\n"
   ]
  },
  {
   "cell_type": "code",
   "execution_count": 14,
   "id": "d5cfb217-e490-481b-a8e3-3f289fedad02",
   "metadata": {},
   "outputs": [
    {
     "data": {
      "text/plain": [
       "('4/4', 4)"
      ]
     },
     "execution_count": 14,
     "metadata": {},
     "output_type": "execute_result"
    }
   ],
   "source": [
    "class Meter:\n",
    "    def __init__(self, beats: int, unit: int):\n",
    "        self._beats = beats\n",
    "        self._unit = unit\n",
    "\n",
    "    @property\n",
    "    def beats(self) -> int:\n",
    "        return self._beats\n",
    "\n",
    "    @beats.setter\n",
    "    def beats(self, value: int):\n",
    "        if value <= 0:\n",
    "            raise ValueError(\"beats must be positive\")\n",
    "        self._beats = value\n",
    "\n",
    "    @property\n",
    "    def signature(self) -> str:\n",
    "        return f\"{self._beats}/{self._unit}\"\n",
    "\n",
    "m = Meter(4, 4)\n",
    "m.signature, m.beats\n"
   ]
  },
  {
   "cell_type": "markdown",
   "id": "39c9a01e-c907-4d61-9191-3107951c46ca",
   "metadata": {},
   "source": [
    "## 8) Dataclasses — Less Boilerplate\n",
    "`dataclasses` auto-generate `__init__`, `__repr__`, `__eq__`, etc.\n"
   ]
  },
  {
   "cell_type": "code",
   "execution_count": 15,
   "id": "cbfda3eb-837f-4326-8ad2-f6980af446e6",
   "metadata": {},
   "outputs": [
    {
     "data": {
      "text/plain": [
       "Artist(name='Alice', followers=1200, tags=['jazz', 'guitar'])"
      ]
     },
     "execution_count": 15,
     "metadata": {},
     "output_type": "execute_result"
    }
   ],
   "source": [
    "from dataclasses import dataclass, field\n",
    "\n",
    "@dataclass\n",
    "class Artist:\n",
    "    name: str\n",
    "    followers: int = 0\n",
    "    tags: list[str] = field(default_factory=list)\n",
    "\n",
    "a1 = Artist(\"Alice\", followers=1200, tags=[\"jazz\", \"guitar\"])\n",
    "a1  # nice repr\n"
   ]
  },
  {
   "cell_type": "markdown",
   "id": "f2ea8c1d-33ee-4904-8c6e-32154898a77f",
   "metadata": {},
   "source": [
    "## 9) Inheritance & Polymorphism\n",
    "- Inheritance: derive a class from a base to reuse/extend behavior.\n",
    "- Polymorphism: code that works with objects of different classes via a shared interface.\n"
   ]
  },
  {
   "cell_type": "code",
   "execution_count": 16,
   "id": "d34c8228-5bd2-498f-96f1-a35efdc4cfa2",
   "metadata": {},
   "outputs": [
    {
     "name": "stdout",
     "output_type": "stream",
     "text": [
      "Strum 🎸\n",
      "Arpeggio 🎹\n"
     ]
    }
   ],
   "source": [
    "class Instrument:\n",
    "    def play(self) -> str:\n",
    "        return \"Playing some instrument\"\n",
    "\n",
    "class Guitar(Instrument):\n",
    "    def play(self) -> str:\n",
    "        return \"Strum 🎸\"\n",
    "\n",
    "class Piano(Instrument):\n",
    "    def play(self) -> str:\n",
    "        return \"Arpeggio 🎹\"\n",
    "\n",
    "def perform(instr: Instrument):\n",
    "    print(instr.play())\n",
    "\n",
    "perform(Guitar())\n",
    "perform(Piano())\n"
   ]
  },
  {
   "cell_type": "markdown",
   "id": "55b0236c-c248-46fd-bd15-6eec37675cc2",
   "metadata": {},
   "source": [
    "## A Small OOP Example — Library of Tracks\n"
   ]
  },
  {
   "cell_type": "code",
   "execution_count": 18,
   "id": "9b032d69-5427-4e6e-b60d-7f1618c0d098",
   "metadata": {},
   "outputs": [
    {
     "data": {
      "text/plain": [
       "(3, ['So What by Davis @ 140 bpm', 'Freddie Freeloader by Davis'])"
      ]
     },
     "execution_count": 18,
     "metadata": {},
     "output_type": "execute_result"
    }
   ],
   "source": [
    "class Library:\n",
    "    def __init__(self):\n",
    "        self._tracks: list[Track] = []\n",
    "\n",
    "    def add(self, track: Track):\n",
    "        self._tracks.append(track)\n",
    "\n",
    "    def by_artist(self, artist: str) -> list[Track]:\n",
    "        return [t for t in self._tracks if t.artist.lower() == artist.lower()]\n",
    "\n",
    "    def __len__(self) -> int:\n",
    "        return len(self._tracks)\n",
    "\n",
    "lib = Library()\n",
    "lib.add(Track(\"So What\", \"Davis\", 140))\n",
    "lib.add(Track(\"Freddie Freeloader\", \"Davis\"))\n",
    "lib.add(Track(\"Naima\", \"Coltrane\", 66))\n",
    "\n",
    "len(lib), [t.describe() for t in lib.by_artist(\"davis\")]\n"
   ]
  },
  {
   "cell_type": "markdown",
   "id": "f6dfd36e-0ba4-4321-a9cc-28f52eaaa606",
   "metadata": {},
   "source": [
    "# Exercises: Functions, Docstrings, Type Hints, and Basic OOP\n",
    "\n",
    "---\n",
    "\n",
    "## Part 1: Functions (Fundamentals, Docstrings, Type Hints)\n",
    "\n",
    "#### 1. Write a function `circle_area(radius: float) -> float`  \n",
    "- Use type hints and a docstring explaining parameters and return value.  \n",
    "- The function should compute and return the area of a circle.  \n",
    "- Formula: π * r² (use `math.pi`).  \n",
    "- Example: `circle_area(2)` → `12.566...`\n",
    "\n",
    "---\n",
    "\n",
    "#### 2. Write a function `average(values: list[float]) -> float`  \n",
    "- Include a docstring.  \n",
    "- Handle the case when the list is empty (return `0.0`).  \n",
    "- Example: `average([10, 20, 30])` → `20.0`  \n",
    "\n",
    "---\n",
    "\n",
    "#### 3. Write a function `safe_divide(a: float, b: float) -> float | None`  \n",
    "- Use type hints and a docstring.  \n",
    "- Return `None` if `b == 0`, otherwise return the division.  \n",
    "- Example: `safe_divide(10, 2)` → `5.0`  \n",
    "- Example: `safe_divide(10, 0)` → `None`  \n",
    "\n",
    "---\n",
    "\n",
    "#### 4. Write a function `describe_numbers(nums: list[int]) -> dict[str, float]`  \n",
    "- Include a docstring.  \n",
    "- Return a dictionary with:  \n",
    "  - `\"count\"` → number of items  \n",
    "  - `\"sum\"` → sum of numbers  \n",
    "  - `\"avg\"` → average (0 if list empty)  \n",
    "- Example: `describe_numbers([1,2,3])` → `{\"count\": 3, \"sum\": 6, \"avg\": 2.0}`  \n",
    "\n",
    "---\n",
    "\n",
    "#### 5. Write a function `clip(value: float, low: float, high: float) -> float`  \n",
    "- Include type hints and a docstring.  \n",
    "- Return `low` if `value < low`, `high` if `value > high`, else return `value`.  \n",
    "- Example: `clip(15, 0, 10)` → `10`  \n",
    "\n",
    "---\n",
    "\n",
    "## Part 2: Basic OOP (Classes, Objects, Attributes, Methods)\n",
    "\n",
    "#### 6. Create a class `Car`  \n",
    "- Attributes: `brand` (string), `speed` (int, default 0).  \n",
    "- Method: `accelerate(amount: int)` that increases speed.  \n",
    "- Method: `brake(amount: int)` that decreases speed but never below 0.  \n",
    "- Example:  \n",
    "```python\n",
    "c = Car(\"Toyota\")\n",
    "c.accelerate(50)\n",
    "c.speed   # 50\n",
    "c.brake(20)\n",
    "c.speed   # 30\n",
    "```\n",
    "\n",
    "#### 7. Create a class `Student`  \n",
    "\n",
    "- Attributes: `name` (string), `grades` (list of floats, default empty).  \n",
    "- Method: `add_grade(grade: float)` to add a grade.  \n",
    "- Method: `average()` to return average grade (0 if no grades).  \n",
    "\n",
    "Example:  \n",
    "```python\n",
    "s = Student(\"Ana\")\n",
    "s.add_grade(4.5)\n",
    "s.add_grade(3.5)\n",
    "s.average()   # 4.0\n",
    "```\n",
    "\n",
    "#### 8. Create a class `Rectangle`\n",
    "\n",
    "- Attributes: `width` and `height`.  \n",
    "- Method: `area()` that returns `width × height`.  \n",
    "- Method: `perimeter()` that returns `2 × (width + height)`.  \n",
    "\n",
    "Example:  \n",
    "```python\n",
    "r = Rectangle(4, 6)\n",
    "r.area()       # 24\n",
    "r.perimeter()  # 20\n",
    "```"
   ]
  },
  {
   "cell_type": "code",
   "execution_count": null,
   "id": "dc28ca2f-862b-4ae2-9756-6bb01f0469d2",
   "metadata": {},
   "outputs": [],
   "source": []
  }
 ],
 "metadata": {
  "kernelspec": {
   "display_name": "Python 3 (ipykernel)",
   "language": "python",
   "name": "python3"
  },
  "language_info": {
   "codemirror_mode": {
    "name": "ipython",
    "version": 3
   },
   "file_extension": ".py",
   "mimetype": "text/x-python",
   "name": "python",
   "nbconvert_exporter": "python",
   "pygments_lexer": "ipython3",
   "version": "3.11.9"
  }
 },
 "nbformat": 4,
 "nbformat_minor": 5
}
