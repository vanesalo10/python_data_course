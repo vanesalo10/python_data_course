{
 "cells": [
  {
   "cell_type": "markdown",
   "id": "93154f4b-27b6-4ab7-9fc2-52f254122e6e",
   "metadata": {},
   "source": [
    "# Data Types, Variables, Operators, and Expressions in Python"
   ]
  },
  {
   "cell_type": "markdown",
   "id": "6b16da6f-ebd3-4b71-b08c-10b07cdfa0ca",
   "metadata": {},
   "source": [
    "## 1. Data Types\n",
    "\n",
    "In Python, data types are used to represent the different kinds of values you can work with.\n"
   ]
  },
  {
   "cell_type": "markdown",
   "id": "9c21b441-9ee3-401a-bf67-9954f0555167",
   "metadata": {},
   "source": [
    "### 1.1 Integers (`int`)\n",
    "Integers are whole numbers (positive or negative, without decimals)."
   ]
  },
  {
   "cell_type": "code",
   "execution_count": 5,
   "id": "ec0256a6-bdf4-4222-9ef8-0a5652efb96f",
   "metadata": {},
   "outputs": [
    {
     "name": "stdout",
     "output_type": "stream",
     "text": [
      "20 26 33 98234 -70\n"
     ]
    }
   ],
   "source": [
    "num_images = 20\n",
    "num_students = 26\n",
    "num_variables = 33\n",
    "dataset_size = 98234\n",
    "amount_of_money = -70\n",
    "\n",
    "print(num_images, num_students, num_variables, dataset_size, amount_of_money)"
   ]
  },
  {
   "cell_type": "markdown",
   "id": "5173f8a6-f1ef-4710-aafa-06e9602cadd5",
   "metadata": {},
   "source": [
    "### 1.2 Floating-Point Numbers (`float`)\n",
    "Floats represent numbers with decimals."
   ]
  },
  {
   "cell_type": "code",
   "execution_count": 6,
   "id": "d16aeacb-609c-48f3-88be-0eb202090bb9",
   "metadata": {},
   "outputs": [
    {
     "name": "stdout",
     "output_type": "stream",
     "text": [
      "3.1416 0.0001 1.2\n"
     ]
    }
   ],
   "source": [
    "pi = 3.1416\n",
    "learning_rate = 0.0001\n",
    "scale_factor = 1.2\n",
    "probability_of_approval = 0.5\n",
    "probability_of_approval_after_studying = 0.9\n",
    "probability_of_approval_after_studying_harder = 0.99\n",
    "\n",
    "print(pi, learning_rate, scale_factor)\n"
   ]
  },
  {
   "cell_type": "markdown",
   "id": "21d9b1eb-2d63-4e7d-b50f-9628a424cae8",
   "metadata": {},
   "source": [
    "#### Bonus:\n",
    "Floats have useful methods. For example, you can get the numerator and denominator of their representation."
   ]
  },
  {
   "cell_type": "code",
   "execution_count": 7,
   "id": "e12d3cc2-7179-4397-a9ff-707f4b7f076a",
   "metadata": {},
   "outputs": [
    {
     "name": "stdout",
     "output_type": "stream",
     "text": [
      "(1, 2)\n"
     ]
    }
   ],
   "source": [
    "a = 0.5\n",
    "print(a.as_integer_ratio())  # Output: (1, 2)"
   ]
  },
  {
   "cell_type": "markdown",
   "id": "6b5a3691-9214-49c1-8ada-54a12aec46ca",
   "metadata": {},
   "source": [
    "### 1.3 Boolean (`bool`)\n",
    "Booleans represent truth values: True or False."
   ]
  },
  {
   "cell_type": "code",
   "execution_count": 8,
   "id": "4d45efa3-43e5-429d-be34-2db60a9a5995",
   "metadata": {},
   "outputs": [
    {
     "name": "stdout",
     "output_type": "stream",
     "text": [
      "True True\n"
     ]
    }
   ],
   "source": [
    "life_is_hard = True\n",
    "you_must_pause_and_think = True\n",
    "follow_your_instinct = False\n",
    "follow_data = True\n",
    "you_already_know_everything = False\n",
    "you_must_keep_learning = True\n",
    "money_is_all_that_matters = False\n",
    "helping_is_showing_answers = False\n",
    "you_can_pass_without_projects = False\n",
    "you_can_pass_without_coming_to_class = True\n",
    "\n",
    "print(life_is_hard, you_must_keep_learning)\n"
   ]
  },
  {
   "cell_type": "markdown",
   "id": "56bf29e9-6e8a-4086-ab1e-28af65060393",
   "metadata": {},
   "source": [
    "### 1.4 Strings (`str`)\n",
    "Strings are used to represent text.\n",
    "\n",
    "Python uses UTF-8 encoding by default, so you can use characters with accents and other symbols."
   ]
  },
  {
   "cell_type": "code",
   "execution_count": 12,
   "id": "3db840b9-a24e-4d1d-9f8c-5ec294db10a9",
   "metadata": {},
   "outputs": [
    {
     "name": "stdout",
     "output_type": "stream",
     "text": [
      "Esteban Herrera Fundamentals of Programming for Data Science\n",
      "Lulú 5 años\n"
     ]
    }
   ],
   "source": [
    "name = \"Esteban\"\n",
    "last_name = \"Herrera\"\n",
    "dog = \"Lulú\"\n",
    "years = \"5 años\"\n",
    "name_of_course = \"Fundamentals of Programming for Data Science\"\n",
    "\n",
    "print(name, last_name, name_of_course)\n",
    "print(dog, years) "
   ]
  },
  {
   "cell_type": "markdown",
   "id": "21c66dc5-00b5-4b31-9a89-d42414638a3f",
   "metadata": {},
   "source": [
    "#### `string` data type has a lot of useful methods: \n",
    "\n",
    "Check a complete list here: https://www.w3schools.com/python/python_strings_methods.asp"
   ]
  },
  {
   "cell_type": "code",
   "execution_count": 26,
   "id": "10d45908-0df6-4a07-a81d-5da6fa25e54e",
   "metadata": {},
   "outputs": [
    {
     "name": "stdout",
     "output_type": "stream",
     "text": [
      "LEARNING PYTHON IS VERY IMPORTANT!\n",
      "don't scream to me\n",
      "Morita\n"
     ]
    }
   ],
   "source": [
    "print(\"learning python is very important!\".upper())\n",
    "\n",
    "print(\"DON'T SCREAM TO ME\".lower())\n",
    "\n",
    "print(\"morita\".capitalize())"
   ]
  },
  {
   "cell_type": "code",
   "execution_count": 27,
   "id": "e18b22a9-a086-49b1-a6dd-1aa82853d09c",
   "metadata": {},
   "outputs": [
    {
     "name": "stdout",
     "output_type": "stream",
     "text": [
      "1\n",
      "4\n",
      "False\n",
      "True\n",
      "True\n"
     ]
    }
   ],
   "source": [
    "print(\"otolaryngologist\".count(\"go\"))\n",
    "\n",
    "print((\"lolololol\").count(\"lo\"))\n",
    "\n",
    "print(\"Do I start with any string?\".startswith(\"hello\"))\n",
    "\n",
    "print(\"Dr. Smith\".startswith(\"Dr.\"))\n",
    "\n",
    "print(\"students paying attention: 20%\".endswith(\"%\"))"
   ]
  },
  {
   "cell_type": "code",
   "execution_count": 28,
   "id": "3159c8e0-5d95-4e94-858f-4d735f0c6225",
   "metadata": {},
   "outputs": [
    {
     "name": "stdout",
     "output_type": "stream",
     "text": [
      "True\n",
      "True\n",
      "True\n"
     ]
    }
   ],
   "source": [
    "print(\"str\".isidentifier())\n",
    "\n",
    "print(\"333\".isdecimal())\n",
    "\n",
    "print(\"123\".isdigit())"
   ]
  },
  {
   "cell_type": "code",
   "execution_count": 29,
   "id": "86782482-9496-4d80-b43b-84f2ee19507d",
   "metadata": {},
   "outputs": [
    {
     "name": "stdout",
     "output_type": "stream",
     "text": [
      "['FirstName', 'LastName1', 'LastName2']\n",
      "['FirstName', 'LastName1', 'LastName2']\n",
      " I have spaces \n",
      "I have spaces\n"
     ]
    }
   ],
   "source": [
    "print(\"FirstName LastName1 LastName2\".split(\" \"))\n",
    "\n",
    "print(\"FirstName,LastName1,LastName2\".split(\",\"))\n",
    "\n",
    "print(\" I have spaces \")\n",
    "print((\" I have spaces \").strip())"
   ]
  },
  {
   "cell_type": "markdown",
   "id": "8bf614a5-0d03-485f-84c4-6483122b07be",
   "metadata": {},
   "source": [
    "#### Slicing\n",
    "You can return a range of characters by using the slice syntax."
   ]
  },
  {
   "cell_type": "code",
   "execution_count": 41,
   "id": "ddf4b2aa-d453-42b2-be56-f515d29ea505",
   "metadata": {},
   "outputs": [
    {
     "name": "stdout",
     "output_type": "stream",
     "text": [
      "y wo\n",
      "Many wo\n",
      "Man\n",
      "M a s d\n"
     ]
    }
   ],
   "source": [
    "s = \"Many words\"\n",
    "print(s[3:7])   \n",
    "print(s[:7])    \n",
    "print(s[:-7])   \n",
    "print(s[0],s[1],s[-1],s[-2])"
   ]
  },
  {
   "cell_type": "code",
   "execution_count": 42,
   "id": "3a4f69fa-3a4e-4a8a-81ae-542c9be20405",
   "metadata": {},
   "outputs": [
    {
     "name": "stdout",
     "output_type": "stream",
     "text": [
      "holiiiiiii\n",
      "iiiiiiiloh\n",
      "hliii\n",
      "ol\n",
      "oii\n",
      "oiiii\n"
     ]
    }
   ],
   "source": [
    "letter = 'holiiiiiii'\n",
    "print(letter[::1])\n",
    "print(letter[::-1])\n",
    "print(letter[::2])\n",
    "print(letter[1:3:1])\n",
    "print(letter[1:6:2])\n",
    "print(letter[1::2])"
   ]
  },
  {
   "cell_type": "markdown",
   "id": "b05e58b7-f608-49a5-b972-e64d032bc940",
   "metadata": {},
   "source": [
    "#### String Concatenation\n",
    "To concatenate, or combine, two strings you can use the + operator."
   ]
  },
  {
   "cell_type": "code",
   "execution_count": 43,
   "id": "9fc58509-b8ed-4b1d-afa5-2975f7cee4b4",
   "metadata": {},
   "outputs": [
    {
     "name": "stdout",
     "output_type": "stream",
     "text": [
      "HelloWorld\n"
     ]
    }
   ],
   "source": [
    "a = \"Hello\"\n",
    "b = \"World\"\n",
    "c = a + b\n",
    "print(c)"
   ]
  },
  {
   "cell_type": "code",
   "execution_count": 44,
   "id": "b1fb4763-e866-4e91-9897-49cc7183d041",
   "metadata": {},
   "outputs": [
    {
     "name": "stdout",
     "output_type": "stream",
     "text": [
      "Hello World\n"
     ]
    }
   ],
   "source": [
    "a = \"Hello\"\n",
    "b = \"World\"\n",
    "c = a + \" \" + b\n",
    "print(c)"
   ]
  },
  {
   "cell_type": "markdown",
   "id": "1bb88832-f47e-4d9a-81cb-61e6bc8b9fca",
   "metadata": {},
   "source": [
    "#### F-Strings\n",
    "F-String was introduced in Python 3.6, and is now the preferred way of formatting strings.\n",
    "\n",
    "To specify a string as an f-string, simply put an f in front of the string literal, and add curly brackets {} as placeholders for variables and other operations.\n",
    "\n"
   ]
  },
  {
   "cell_type": "code",
   "execution_count": 47,
   "id": "431cd551-c89d-4a37-b646-0540963f4fb8",
   "metadata": {},
   "outputs": [
    {
     "name": "stdout",
     "output_type": "stream",
     "text": [
      "My name is Alexa, I am 38\n"
     ]
    }
   ],
   "source": [
    "age = 38\n",
    "name = 'Alexa'\n",
    "txt = f\"My name is {name}, I am {age}\"\n",
    "print(txt)"
   ]
  },
  {
   "cell_type": "code",
   "execution_count": 51,
   "id": "a11044cf-a32c-4fe6-b291-fc5b2b6e2ff6",
   "metadata": {},
   "outputs": [
    {
     "name": "stdout",
     "output_type": "stream",
     "text": [
      "The price is 1180 dollars\n"
     ]
    }
   ],
   "source": [
    "txt = f\"The price is {20 * 59} dollars\"\n",
    "print(txt)"
   ]
  },
  {
   "cell_type": "markdown",
   "id": "c35dcd83-e705-4878-a668-4cb67c7d0ddb",
   "metadata": {},
   "source": [
    "#### Escape Character\n",
    "To insert characters that are illegal in a string, use an escape character.\n",
    "\n",
    "An escape character is a backslash \\ followed by the character you want to insert.\n",
    "\n",
    "An example of an illegal character is a double quote inside a string that is surrounded by double quotes:"
   ]
  },
  {
   "cell_type": "code",
   "execution_count": 52,
   "id": "eb7167bd-a7cc-4b7a-9037-6bc6ce19e56d",
   "metadata": {},
   "outputs": [
    {
     "ename": "SyntaxError",
     "evalue": "invalid syntax (7934146.py, line 1)",
     "output_type": "error",
     "traceback": [
      "  \u001b[36mCell\u001b[39m\u001b[36m \u001b[39m\u001b[32mIn[52]\u001b[39m\u001b[32m, line 1\u001b[39m\n\u001b[31m    \u001b[39m\u001b[31mtxt = \"We are the so-called \"Vikings\" from the north.\"\u001b[39m\n                                 ^\n\u001b[31mSyntaxError\u001b[39m\u001b[31m:\u001b[39m invalid syntax\n"
     ]
    }
   ],
   "source": [
    "txt = \"We are the so-called \"Vikings\" from the north.\""
   ]
  },
  {
   "cell_type": "code",
   "execution_count": 54,
   "id": "9ab7a89a-484d-4fd2-b6e4-a8e1d695e1ba",
   "metadata": {},
   "outputs": [
    {
     "name": "stdout",
     "output_type": "stream",
     "text": [
      "We are the so-called \"Vikings\" from the north.\n"
     ]
    }
   ],
   "source": [
    "txt = \"We are the so-called \\\"Vikings\\\" from the north.\"\n",
    "print(txt)"
   ]
  },
  {
   "cell_type": "markdown",
   "id": "38e99eb3-b7a0-421b-bacf-ed1a9403f143",
   "metadata": {},
   "source": [
    "### Casting\n",
    "You can convert from one type to another with the int(), float(), string() methods. "
   ]
  },
  {
   "cell_type": "code",
   "execution_count": 59,
   "id": "71df8597-a038-406e-9d8c-3d9ea69b0f22",
   "metadata": {},
   "outputs": [
    {
     "name": "stdout",
     "output_type": "stream",
     "text": [
      "1 2.8 1.0 2\n",
      "<class 'int'> <class 'float'>\n",
      "<class 'float'> <class 'int'>\n",
      "2.8 <class 'str'>\n",
      "3 <class 'int'>\n"
     ]
    }
   ],
   "source": [
    "x = 1    # int\n",
    "y = 2.8  # float\n",
    "\n",
    "#convert from int to float:\n",
    "a = float(x)\n",
    "\n",
    "#convert from float to int:\n",
    "b = int(y)\n",
    "\n",
    "print(x, y, a, b)\n",
    "print(type(x),type(y))\n",
    "print(type(a),type(b))\n",
    "\n",
    "c = str(y)\n",
    "\n",
    "print(c, type(c))\n",
    "\n",
    "d = int(\"3\")\n",
    "print(d,type(d))"
   ]
  },
  {
   "cell_type": "markdown",
   "id": "df8eae1d-48c5-44d6-9a95-1a2c1a0c629f",
   "metadata": {},
   "source": [
    "#### Note: \n",
    "There are some invalid conversions"
   ]
  },
  {
   "cell_type": "code",
   "execution_count": 61,
   "id": "61174dab-a7ac-4f16-aa54-74e189639cef",
   "metadata": {},
   "outputs": [
    {
     "ename": "ValueError",
     "evalue": "invalid literal for int() with base 10: 'Trigo'",
     "output_type": "error",
     "traceback": [
      "\u001b[31m---------------------------------------------------------------------------\u001b[39m",
      "\u001b[31mValueError\u001b[39m                                Traceback (most recent call last)",
      "\u001b[36mCell\u001b[39m\u001b[36m \u001b[39m\u001b[32mIn[61]\u001b[39m\u001b[32m, line 2\u001b[39m\n\u001b[32m      1\u001b[39m cat = \u001b[33m\"\u001b[39m\u001b[33mTrigo\u001b[39m\u001b[33m\"\u001b[39m\n\u001b[32m----> \u001b[39m\u001b[32m2\u001b[39m intcat = \u001b[38;5;28;43mint\u001b[39;49m\u001b[43m(\u001b[49m\u001b[43mcat\u001b[49m\u001b[43m)\u001b[49m\n",
      "\u001b[31mValueError\u001b[39m: invalid literal for int() with base 10: 'Trigo'"
     ]
    }
   ],
   "source": [
    "cat = \"Trigo\"\n",
    "intcat = int(cat)"
   ]
  },
  {
   "cell_type": "markdown",
   "id": "b285a280-c156-42c8-91bc-ae26b14f853a",
   "metadata": {},
   "source": [
    "#### Let's do some exercises with strings! \n",
    "https://www.w3schools.com/python/python_strings_exercises.asp"
   ]
  },
  {
   "cell_type": "markdown",
   "id": "c2b94572-a07e-4333-b700-3291d6cfa138",
   "metadata": {},
   "source": [
    "### 1.5 None Type (`NoneType`)\n",
    "Use `None` to indicate that a variable has no value assigned."
   ]
  },
  {
   "cell_type": "code",
   "execution_count": 62,
   "id": "19f7b29d-c828-407c-aeba-d00198fc4d7c",
   "metadata": {},
   "outputs": [
    {
     "name": "stdout",
     "output_type": "stream",
     "text": [
      "None None\n"
     ]
    }
   ],
   "source": [
    "best_student = None\n",
    "worst_student = None\n",
    "\n",
    "print(best_student, worst_student)"
   ]
  },
  {
   "cell_type": "markdown",
   "id": "cb78c5a2-dc2c-434a-ab97-bb629e86d5c2",
   "metadata": {},
   "source": [
    "## 2. Variables.\n",
    "(We have been using variables all this time!)\n",
    "\n",
    "Variables let you reference the values your program works with.\n",
    "\n",
    "A variable is a space in the computer's memory (RAM) that holds a value."
   ]
  },
  {
   "cell_type": "code",
   "execution_count": 63,
   "id": "be3fc37b-186f-4827-a5b9-29eeb44388bc",
   "metadata": {},
   "outputs": [
    {
     "name": "stdout",
     "output_type": "stream",
     "text": [
      "Elena 24\n"
     ]
    }
   ],
   "source": [
    "student_name = \"Elena\"\n",
    "student_age = 24\n",
    "\n",
    "print(student_name, student_age)"
   ]
  },
  {
   "cell_type": "markdown",
   "id": "995af267-57a2-4dd5-abdc-2d0e9481a6ce",
   "metadata": {},
   "source": [
    "Variable names are case-sensitive (`This` and `this` are different).\n",
    "\n",
    "Use `snake_case` for variable names (like_this), following PEP8 style guide (https://peps.python.org/pep-0008/)\n",
    "\n",
    "Don’t use reserved words or data type names as variable names: https://www.programiz.com/python-programming/keyword-list"
   ]
  },
  {
   "cell_type": "markdown",
   "id": "4695e5b0-fa95-41ab-8e83-727ff80dee5a",
   "metadata": {},
   "source": [
    "## 3. Operators\n",
    "Operators let you perform different operations with values.\n",
    "\n",
    "The behavior of operators depends on the types of values they’re used with.\n",
    "\n",
    "There are a lot of operators. We will only check the main ones. See a full list of operators here: https://www.w3schools.com/python/python_operators.asp"
   ]
  },
  {
   "cell_type": "markdown",
   "id": "e5d7d997-d2ff-4eef-aea1-2f0fc33bec5e",
   "metadata": {},
   "source": [
    "### 3.1 Arithmetic Operators"
   ]
  },
  {
   "cell_type": "code",
   "execution_count": 65,
   "id": "1cc26f88-259f-4d4b-9013-2fed612d8dc1",
   "metadata": {
    "scrolled": true
   },
   "outputs": [
    {
     "name": "stdout",
     "output_type": "stream",
     "text": [
      "8\n",
      "12\n",
      "2.0\n",
      "3.5\n",
      "3\n",
      "1\n",
      "32\n"
     ]
    }
   ],
   "source": [
    "print(3 + 5)    \n",
    "print(4 * 3)    \n",
    "print(6 / 3)    \n",
    "print(7 / 2)    \n",
    "print(7 // 2)  \n",
    "print(7 % 2)   \n",
    "print(2 ** 5)   "
   ]
  },
  {
   "cell_type": "markdown",
   "id": "f07dbc05-d398-4341-a25c-4e2750e07a50",
   "metadata": {},
   "source": [
    "### 3.2 Comparison Operators"
   ]
  },
  {
   "cell_type": "code",
   "execution_count": 67,
   "id": "5f7fae57-58c5-437f-bd77-9196122f0ce9",
   "metadata": {},
   "outputs": [
    {
     "name": "stdout",
     "output_type": "stream",
     "text": [
      "True True False False True\n"
     ]
    }
   ],
   "source": [
    "age = 18\n",
    "print(age == 18, age < 20, age > 30, age <= 12, age >= 18)"
   ]
  },
  {
   "cell_type": "markdown",
   "id": "d303ed5f-b777-4484-834f-6feaf3e69393",
   "metadata": {},
   "source": [
    "### 3.3 Logical Operators"
   ]
  },
  {
   "cell_type": "code",
   "execution_count": 66,
   "id": "a5714ed1-531d-487a-9f4d-77504b60d902",
   "metadata": {},
   "outputs": [
    {
     "name": "stdout",
     "output_type": "stream",
     "text": [
      "True False\n",
      "True True\n",
      "False\n",
      "True\n"
     ]
    }
   ],
   "source": [
    "print(True and True, True and False)   \n",
    "print(True or True, True or False)      \n",
    "print(not True)                       \n",
    "print(not False)       "
   ]
  },
  {
   "cell_type": "markdown",
   "id": "00e16d44-4f23-427e-928f-4c3aa0ee9950",
   "metadata": {},
   "source": [
    "### 3.4 String and List Operators"
   ]
  },
  {
   "cell_type": "code",
   "execution_count": 69,
   "id": "81afaa9d-0cab-402a-9db8-9332dc4abf98",
   "metadata": {},
   "outputs": [
    {
     "name": "stdout",
     "output_type": "stream",
     "text": [
      "You can repeat strings, You can repeat strings, You can repeat strings, \n",
      "[45, 2, 45, 2, 45, 2, 45, 2, 45, 2, 45, 2, 45, 2]\n"
     ]
    }
   ],
   "source": [
    "print(\"You can repeat strings, \" * 3)\n",
    "print([45,2] * 7)"
   ]
  },
  {
   "cell_type": "markdown",
   "id": "9616f301-c7bb-47d3-9f8b-d8464704d61c",
   "metadata": {},
   "source": [
    "## 4. Expressions \n",
    "Expressions are combinations of values, variables, and operators that Python can evaluate to produce a result."
   ]
  },
  {
   "cell_type": "code",
   "execution_count": 70,
   "id": "622e40f2-183b-4f64-9b56-d506771c1718",
   "metadata": {},
   "outputs": [
    {
     "name": "stdout",
     "output_type": "stream",
     "text": [
      "Addition: 11\n",
      "Subtraction: 5\n",
      "Multiplication: 24\n",
      "Division: 2.6666666666666665\n",
      "Floor division: 2\n",
      "Modulus: 2\n",
      "Exponentiation: 512\n"
     ]
    }
   ],
   "source": [
    "a = 8\n",
    "b = 3\n",
    "\n",
    "add = a + b\n",
    "sub = a - b\n",
    "mul = a * b\n",
    "div = a / b\n",
    "floor_div = a // b\n",
    "mod = a % b\n",
    "exp = a ** b\n",
    "\n",
    "print(\"Addition:\", add)\n",
    "print(\"Subtraction:\", sub)\n",
    "print(\"Multiplication:\", mul)\n",
    "print(\"Division:\", div)\n",
    "print(\"Floor division:\", floor_div)\n",
    "print(\"Modulus:\", mod)\n",
    "print(\"Exponentiation:\", exp)"
   ]
  },
  {
   "cell_type": "code",
   "execution_count": 71,
   "id": "e05858b8-51fa-4e4f-a755-55353a066a8a",
   "metadata": {},
   "outputs": [
    {
     "name": "stdout",
     "output_type": "stream",
     "text": [
      "Hello, Sara!\n",
      "hahaha\n"
     ]
    }
   ],
   "source": [
    "greeting = \"Hello\"\n",
    "name = \"Sara\"\n",
    "\n",
    "message = greeting + \", \" + name + \"!\"\n",
    "print(message)\n",
    "\n",
    "laugh = \"ha\" * 3\n",
    "print(laugh)\n"
   ]
  },
  {
   "cell_type": "code",
   "execution_count": 72,
   "id": "5b86bca9-0445-4f46-bf08-1f76bf72fb38",
   "metadata": {},
   "outputs": [
    {
     "name": "stdout",
     "output_type": "stream",
     "text": [
      "True\n",
      "False\n",
      "True\n",
      "Can enter the concert? True\n"
     ]
    }
   ],
   "source": [
    "x = 10\n",
    "y = 5\n",
    "\n",
    "print(x > y)    # True\n",
    "print(x == y)   # False\n",
    "print(x != y)   # True\n",
    "\n",
    "age = 22\n",
    "has_ticket = True\n",
    "\n",
    "can_enter = (age >= 18) and has_ticket\n",
    "print(\"Can enter the concert?\", can_enter)\n"
   ]
  },
  {
   "cell_type": "code",
   "execution_count": 73,
   "id": "88a875b1-f2ab-4e35-9e10-23d593f4449a",
   "metadata": {},
   "outputs": [
    {
     "name": "stdout",
     "output_type": "stream",
     "text": [
      "Area: 24\n"
     ]
    }
   ],
   "source": [
    "length = 6\n",
    "width = 4\n",
    "area = length * width\n",
    "print(\"Area:\", area)\n"
   ]
  },
  {
   "cell_type": "markdown",
   "id": "e7680d9d-df8b-4868-bc5b-971925e05c40",
   "metadata": {},
   "source": [
    "## Homework!! wiii"
   ]
  },
  {
   "cell_type": "markdown",
   "id": "6c571a4f-2293-411a-8d16-3c5f75595cea",
   "metadata": {},
   "source": [
    "### Homework Submission Workflow\n",
    "\n",
    "For all homework assignments, please follow this workflow:\n",
    "\n",
    "1. **Create a new branch** named `homework_<number>` from the `main` branch in our repository.  \n",
    "   *Before creating the branch, run `git pull` to make sure your local copy is up to date.*\n",
    "\n",
    "2. **Create a new Jupyter notebook** in the `Homeworks` folder of the repo.  \n",
    "   - Name your notebook according to the topic (use the same or a similar name as the assignment notebook).\n",
    "\n",
    "3. **Solve the assigned exercises** in your new notebook.\n",
    "\n",
    "4. **Add, commit, and push** your changes to your homework branch.\n",
    "\n",
    "5. **Create a pull request** from your branch to the `main` branch.\n",
    "\n",
    "6. **Send me the pull request** for review.\n"
   ]
  },
  {
   "cell_type": "markdown",
   "id": "ea4874b0-6f73-4fa9-bb78-30ddc9bb11c3",
   "metadata": {},
   "source": [
    "## Python Practice Exercises: Data Types, Variables, Operators, Expressions, Printing\n",
    "\n",
    "---\n",
    "\n",
    "#### 1. Create a variable named `city` and assign your favorite city to it. Print it.\n",
    "\n",
    "Expected output: the name of your favorite city.\n",
    "\n",
    "---\n",
    "\n",
    "#### 2. Create two variables, `x` and `y`, assign them integer values, and print their sum, difference, and product.\n",
    "\n",
    "Example:\n",
    "x = 7  \n",
    "y = 5\n",
    "\n",
    "Expected output:\n",
    "12  \n",
    "2  \n",
    "35\n",
    "\n",
    "---\n",
    "\n",
    "#### 3. Assign the value 3.1416 to a variable named `pi`, and print its type using the `type()` function.\n",
    "\n",
    "Expected output:\n",
    "<class 'float'>\n",
    "\n",
    "---\n",
    "\n",
    "#### 4. Create a boolean variable `is_raining` and set it to False. Print a sentence that uses this variable, e.g., \"Is it raining? False\"\n",
    "\n",
    "---\n",
    "\n",
    "#### 5. Use string concatenation to join the first name and last name of a person (two variables) with a space in between. Print the full name.\n",
    "\n",
    "Example:\n",
    "first_name = \"Maria\"  \n",
    "last_name = \"Gomez\"\n",
    "\n",
    "Expected output:\n",
    "Maria Gomez\n",
    "\n",
    "---\n",
    "\n",
    "#### 6. Write an expression that calculates the remainder when 29 is divided by 5, and print the result.\n",
    "\n",
    "Expected output:\n",
    "4\n",
    "\n",
    "---\n",
    "\n",
    "#### 7. Print the result of evaluating the expression: (5 + 2) * 3 - 4 / 2\n",
    "\n",
    "Expected output:\n",
    "19.0\n",
    "\n",
    "---\n",
    "\n",
    "#### 8. Given the variable `age = 21`, use a comparison operator to check if `age` is greater than or equal to 18. Print the result.\n",
    "\n",
    "Expected output:\n",
    "True\n",
    "\n",
    "---\n",
    "\n",
    "#### 9. Use a string method to make the text \"python programming is fun\" all uppercase and print the result.\n",
    "\n",
    "Expected output:\n",
    "PYTHON PROGRAMMING IS FUN\n",
    "\n",
    "---\n",
    "\n",
    "#### 10. Use f-string formatting to print: \"There are 12 apples and 8 oranges.\"\n",
    "\n",
    "Example:\n",
    "apples = 12  \n",
    "oranges = 8\n",
    "\n",
    "Expected output:\n",
    "There are 12 apples and 8 oranges.\n",
    "\n",
    "---\n",
    "\n",
    "#### 11. Assign the value `None` to a variable called `next_topic`, and print its value and type.\n",
    "\n",
    "Expected output:\n",
    "None  \n",
    "<class 'NoneType'>\n",
    "\n",
    "---\n",
    "\n",
    "#### 12. Create a string variable called `course` with the value \"Data Science\". Use the `.count()` method to count how many times the letter \"a\" appears, and print the result.\n",
    "\n",
    "Expected output:\n",
    "2\n",
    "\n",
    "---\n",
    "\n",
    "#### 13. Make a list containing the integer 9 repeated 6 times using the multiplication operator. Print the list.\n",
    "\n",
    "Expected output:\n",
    "[9, 9, 9, 9, 9, 9]\n",
    "\n",
    "---\n",
    "\n",
    "#### 14. Write an expression that combines boolean values: Check if `10 > 5 and 3 < 1`. Print the result.\n",
    "\n",
    "Expected output:\n",
    "False\n",
    "\n",
    "---\n",
    "\n",
    "#### 15. Slice the string `\"Programming\"` to get the substring `\"gram\"`, and print it.\n",
    "\n",
    "Expected output:\n",
    "gram\n",
    "\n"
   ]
  },
  {
   "cell_type": "markdown",
   "id": "24e19373-794d-48ba-a657-46dc739e35a2",
   "metadata": {},
   "source": [
    "## Good luck! 🚀✨  "
   ]
  },
  {
   "cell_type": "code",
   "execution_count": null,
   "id": "5a99db5f-af17-43d3-88bc-f568ab6f88f2",
   "metadata": {},
   "outputs": [],
   "source": []
  }
 ],
 "metadata": {
  "kernelspec": {
   "display_name": "Python 3 (ipykernel)",
   "language": "python",
   "name": "python3"
  },
  "language_info": {
   "codemirror_mode": {
    "name": "ipython",
    "version": 3
   },
   "file_extension": ".py",
   "mimetype": "text/x-python",
   "name": "python",
   "nbconvert_exporter": "python",
   "pygments_lexer": "ipython3",
   "version": "3.13.5"
  }
 },
 "nbformat": 4,
 "nbformat_minor": 5
}
