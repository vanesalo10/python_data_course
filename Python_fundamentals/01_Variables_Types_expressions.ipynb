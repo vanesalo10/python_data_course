{
 "cells": [
  {
   "cell_type": "code",
   "execution_count": null,
   "id": "d7a5d628-76c8-423f-a76f-3db841779b26",
   "metadata": {},
   "outputs": [],
   "source": []
  }
 ],
 "metadata": {
  "kernelspec": {
   "display_name": "",
   "name": ""
  },
  "language_info": {
   "name": ""
  }
 },
 "nbformat": 4,
 "nbformat_minor": 5
}
