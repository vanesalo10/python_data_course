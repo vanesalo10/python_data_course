{
 "cells": [
  {
   "cell_type": "markdown",
   "id": "f1458598",
   "metadata": {},
   "source": [
    "\n",
    "# Python File I/O: Reading and Writing Files with `open`\n",
    "\n",
    "In this notebook you will learn:\n",
    "- Using `open()` correctly (modes: `r`, `w`, `a`, `x`, `b`, `t`)\n",
    "- Safe handling with context managers (`with`)\n",
    "- Reading strategies: whole file, line-by-line, chunks, iterating\n",
    "- Writing & appending text and CSV\n",
    "- JSON & JSON Lines\n",
    "- Basic TSV and simple YAML\n"
   ]
  },
  {
   "cell_type": "markdown",
   "id": "2dbdc25d",
   "metadata": {},
   "source": [
    "\n",
    "## 1) Paths and Encodings\n",
    "\n",
    "- Use `encoding=\"utf-8\"` when reading/writing text files.\n"
   ]
  },
  {
   "cell_type": "code",
   "execution_count": 7,
   "id": "30002457",
   "metadata": {},
   "outputs": [],
   "source": [
    "#Paths can be relative or absolute\n",
    "data_dir = 'sample_files/'\n",
    "data_dir = '/Users/vanessalopera/study/python_data_course/Python_fundamentals/sample_files/'"
   ]
  },
  {
   "cell_type": "markdown",
   "id": "cf1f480d",
   "metadata": {},
   "source": [
    "\n",
    "## 2) The `open()` function and modes\n",
    "\n",
    "Common text modes:\n",
    "- `'r'` read (default), error if file not found\n",
    "- `'w'` write (truncate or create)\n",
    "- `'a'` append (create if missing)\n",
    "- `'x'` exclusive create (error if exists)\n",
    "- Add `'b'` for **binary** and `'t'` for **text** (default).\n",
    "\n",
    "Always prefer using a **context manager** (`with`) to auto-close the file.\n"
   ]
  },
  {
   "cell_type": "code",
   "execution_count": 12,
   "id": "e23c0e20",
   "metadata": {},
   "outputs": [
    {
     "name": "stdout",
     "output_type": "stream",
     "text": [
      "This is a plain text file.\n",
      "It has multiple lines.\n",
      "We will read it line by line and count words.\n",
      "¡Incluye caracteres con acentos como: corazón! 😀\n",
      "\n"
     ]
    }
   ],
   "source": [
    "# Reading a whole file\n",
    "with open(data_dir + \"notes.txt\", \"r\", encoding=\"utf-8\") as f:\n",
    "    text = f.read()\n",
    "print(text)"
   ]
  },
  {
   "cell_type": "code",
   "execution_count": 29,
   "id": "dcc3917b",
   "metadata": {},
   "outputs": [
    {
     "name": "stdout",
     "output_type": "stream",
     "text": [
      "Line 1: This is a plain text file.\n",
      "Line 2: It has multiple lines.\n",
      "Line 3: We will read it line by line and count words.\n",
      "Line 4: ¡Incluye caracteres con acentos como: corazón! 😀\n"
     ]
    }
   ],
   "source": [
    "# Reading line-by-line\n",
    "with open(data_dir + \"notes.txt\", \"r\", encoding=\"utf-8\") as f:\n",
    "    for i, line in enumerate(f, start=1):\n",
    "        print(f\"Line {i}: {line.strip()}\")"
   ]
  },
  {
   "cell_type": "code",
   "execution_count": 30,
   "id": "c20dfcb9-66b5-494d-acdb-5dc7bb4a362a",
   "metadata": {},
   "outputs": [],
   "source": [
    "#Aquí ya sabemos funciones, así que crearemos una que lea e imprima un archivo entero. Para segiurla reutilizando\n",
    "# Este es un ejemplo de función que no devuelve nada, solo imprime. Notese que no tiene un \"return\"\n",
    "def read_and_print_file(path):\n",
    "    with open(path, \"r\", encoding=\"utf-8\") as f:\n",
    "        text = f.read()\n",
    "        print(text)"
   ]
  },
  {
   "cell_type": "code",
   "execution_count": 31,
   "id": "9dc9dc62",
   "metadata": {},
   "outputs": [],
   "source": [
    "# Writing (w) overwrites or creates a file\n",
    "out_path = data_dir + \"output.txt\"\n",
    "with open(out_path, \"w\", encoding=\"utf-8\") as f:\n",
    "    f.write(\"Hello from Python file I/O!\\n\")\n",
    "    f.write(\"Second line.\\n\")\n"
   ]
  },
  {
   "cell_type": "code",
   "execution_count": 32,
   "id": "316d85f6-01ab-4a26-aa0a-c25f0f34e6d6",
   "metadata": {},
   "outputs": [
    {
     "name": "stdout",
     "output_type": "stream",
     "text": [
      "Hello from Python file I/O!\n",
      "Second line.\n",
      "\n"
     ]
    }
   ],
   "source": [
    "read_and_print_file(out_path)"
   ]
  },
  {
   "cell_type": "code",
   "execution_count": 33,
   "id": "49a84bb4",
   "metadata": {},
   "outputs": [],
   "source": [
    "# Append (a) adds to the end\n",
    "with open(out_path, \"a\", encoding=\"utf-8\") as f:\n",
    "    f.write(\"Appended line.\\n\")"
   ]
  },
  {
   "cell_type": "code",
   "execution_count": 34,
   "id": "493cddd7-81bf-4915-a038-4a93faa4e6b5",
   "metadata": {},
   "outputs": [
    {
     "name": "stdout",
     "output_type": "stream",
     "text": [
      "Hello from Python file I/O!\n",
      "Second line.\n",
      "Appended line.\n",
      "\n"
     ]
    }
   ],
   "source": [
    "read_and_print_file(out_path)"
   ]
  },
  {
   "cell_type": "markdown",
   "id": "3f942461",
   "metadata": {},
   "source": [
    "\n",
    "## 4) Working with CSV (comma-separated values)\n",
    "\n",
    "Use the built-in `csv` module.\n"
   ]
  },
  {
   "cell_type": "code",
   "execution_count": 36,
   "id": "03aa8521",
   "metadata": {},
   "outputs": [
    {
     "data": {
      "text/plain": [
       "[{'id': '1', 'name': 'Ana', 'age': '22', 'grade': '4.5'},\n",
       " {'id': '2', 'name': 'Luis', 'age': '24', 'grade': '3.9'},\n",
       " {'id': '3', 'name': 'Sofía', 'age': '21', 'grade': '4.2'},\n",
       " {'id': '4', 'name': 'Karla', 'age': '23', 'grade': '4.8'},\n",
       " {'id': '5', 'name': 'Marcos', 'age': '25', 'grade': '3.7'}]"
      ]
     },
     "execution_count": 36,
     "metadata": {},
     "output_type": "execute_result"
    }
   ],
   "source": [
    "import csv\n",
    "\n",
    "csv_path = data_dir + \"students.csv\"\n",
    "\n",
    "# Read CSV as dictionaries\n",
    "with open(csv_path, \"r\", encoding=\"utf-8\", newline=\"\") as f:\n",
    "    reader = csv.DictReader(f)\n",
    "    rows = list(reader)\n",
    "\n",
    "rows"
   ]
  },
  {
   "cell_type": "code",
   "execution_count": 37,
   "id": "a00bc1e6",
   "metadata": {},
   "outputs": [],
   "source": [
    "# Write a filtered CSV (only passed students)\n",
    "passed_path = data_dir + \"passed_students.csv\"\n",
    "with open(passed_path, \"w\", encoding=\"utf-8\", newline=\"\") as f:\n",
    "    fieldnames = [\"id\", \"name\", \"age\", \"grade\"]\n",
    "    writer = csv.DictWriter(f, fieldnames=fieldnames)\n",
    "    writer.writeheader()\n",
    "    for r in rows:\n",
    "        if float(r[\"grade\"]) >= 4.0:\n",
    "            writer.writerow(r)\n"
   ]
  },
  {
   "cell_type": "code",
   "execution_count": 38,
   "id": "d26df227-16f4-4d21-b5e2-31782f511abd",
   "metadata": {},
   "outputs": [
    {
     "name": "stdout",
     "output_type": "stream",
     "text": [
      "id,name,age,grade\n",
      "1,Ana,22,4.5\n",
      "3,Sofía,21,4.2\n",
      "4,Karla,23,4.8\n",
      "\n"
     ]
    }
   ],
   "source": [
    "read_and_print_file(passed_path)"
   ]
  },
  {
   "cell_type": "markdown",
   "id": "41835fc0",
   "metadata": {},
   "source": [
    "\n",
    "## 5) JSON and JSON Lines\n",
    "\n",
    "- Use the `json` module for read/write JSON.\n",
    "- JSON Lines (`.jsonl`) stores one JSON object per line.\n"
   ]
  },
  {
   "cell_type": "code",
   "execution_count": 41,
   "id": "58ae3706",
   "metadata": {},
   "outputs": [
    {
     "data": {
      "text/plain": [
       "{'project': 'file-io-demo',\n",
       " 'version': 1,\n",
       " 'students': [{'id': 1, 'name': 'Ana', 'passed': True, 'grade': 4.5},\n",
       "  {'id': 2, 'name': 'Luis', 'passed': True, 'grade': 3.9},\n",
       "  {'id': 3, 'name': 'Sofía', 'passed': True, 'grade': 4.2},\n",
       "  {'id': 4, 'name': 'Karla', 'passed': True, 'grade': 4.8},\n",
       "  {'id': 5, 'name': 'Marcos', 'passed': False, 'grade': 3.7}]}"
      ]
     },
     "execution_count": 41,
     "metadata": {},
     "output_type": "execute_result"
    }
   ],
   "source": [
    "import json\n",
    "\n",
    "# Read JSON\n",
    "with open(data_dir + \"data.json\", \"r\", encoding=\"utf-8\") as f:\n",
    "    data = json.load(f)\n",
    "\n",
    "data"
   ]
  },
  {
   "cell_type": "code",
   "execution_count": 42,
   "id": "17b18411-e395-4482-93c2-d42f9fb669ee",
   "metadata": {},
   "outputs": [
    {
     "data": {
      "text/plain": [
       "('file-io-demo', 5)"
      ]
     },
     "execution_count": 42,
     "metadata": {},
     "output_type": "execute_result"
    }
   ],
   "source": [
    "data[\"project\"], len(data[\"students\"])"
   ]
  },
  {
   "cell_type": "code",
   "execution_count": 43,
   "id": "f11db3c2",
   "metadata": {},
   "outputs": [],
   "source": [
    "# Write JSON (pretty)\n",
    "export_path = data_dir + \"export.json\"\n",
    "with open(export_path, \"w\", encoding=\"utf-8\") as f:\n",
    "    json.dump(data, f, ensure_ascii=False, indent=2)\n"
   ]
  },
  {
   "cell_type": "code",
   "execution_count": 45,
   "id": "5e3dd8ee-4458-4f70-b569-79661d4e8f6e",
   "metadata": {},
   "outputs": [
    {
     "name": "stdout",
     "output_type": "stream",
     "text": [
      "{\n",
      "  \"project\": \"file-io-demo\",\n",
      "  \"version\": 1,\n",
      "  \"students\": [\n",
      "    {\n",
      "      \"id\": 1,\n",
      "      \"name\": \"Ana\",\n",
      "      \"passed\": true,\n",
      "      \"grade\": 4.5\n",
      "    },\n",
      "    {\n",
      "      \"id\": 2,\n",
      "      \"name\": \"Luis\",\n",
      "      \"passed\": true,\n",
      "      \"grade\": 3.9\n",
      "    },\n",
      "    {\n",
      "      \"id\": 3,\n",
      "      \"name\": \"Sofía\",\n",
      "      \"passed\": true,\n",
      "      \"grade\": 4.2\n",
      "    },\n",
      "    {\n",
      "      \"id\": 4,\n",
      "      \"name\": \"Karla\",\n",
      "      \"passed\": true,\n",
      "      \"grade\": 4.8\n",
      "    },\n",
      "    {\n",
      "      \"id\": 5,\n",
      "      \"name\": \"Marcos\",\n",
      "      \"passed\": false,\n",
      "      \"grade\": 3.7\n",
      "    }\n",
      "  ]\n",
      "}\n"
     ]
    }
   ],
   "source": [
    "read_and_print_file(export_path)"
   ]
  },
  {
   "cell_type": "code",
   "execution_count": 46,
   "id": "b693bf19",
   "metadata": {},
   "outputs": [
    {
     "data": {
      "text/plain": [
       "[{'user': 'u1', 'stars': 5, 'comment': 'Great course!'},\n",
       " {'user': 'u2', 'stars': 4, 'comment': 'Very helpful'}]"
      ]
     },
     "execution_count": 46,
     "metadata": {},
     "output_type": "execute_result"
    }
   ],
   "source": [
    "# Read JSON Lines\n",
    "jsonl_path = data_dir + \"reviews.jsonl\"\n",
    "with open(jsonl_path, \"r\", encoding=\"utf-8\") as f:\n",
    "    reviews = [json.loads(line) for line in f]\n",
    "\n",
    "reviews[:2]"
   ]
  },
  {
   "cell_type": "markdown",
   "id": "9f7fef48",
   "metadata": {},
   "source": [
    "\n",
    "## 6) TSV (tab-separated values)\n",
    "\n",
    "Same as CSV but with a tab delimiter (`\\t`).\n"
   ]
  },
  {
   "cell_type": "code",
   "execution_count": 50,
   "id": "084cae81",
   "metadata": {},
   "outputs": [
    {
     "data": {
      "text/plain": [
       "[['colA', 'colB', 'colC'], ['1', '2', '3'], ['4', '5', '6']]"
      ]
     },
     "execution_count": 50,
     "metadata": {},
     "output_type": "execute_result"
    }
   ],
   "source": [
    "import csv\n",
    "\n",
    "tsv_path = data_dir + \"table.tsv\"\n",
    "with open(tsv_path, \"r\", encoding=\"utf-8\", newline=\"\") as f:\n",
    "    reader = csv.reader(f, delimiter=\"\\t\")\n",
    "    tsv_rows = list(reader)\n",
    "\n",
    "tsv_rows"
   ]
  },
  {
   "cell_type": "markdown",
   "id": "ef2dfbe6",
   "metadata": {},
   "source": [
    "\n",
    "## 7) YAML (quick peek without external libs)\n",
    "\n",
    "We treat YAML here as plain text since `PyYAML` is not guaranteed to be installed.\n"
   ]
  },
  {
   "cell_type": "code",
   "execution_count": 52,
   "id": "3231d98a",
   "metadata": {},
   "outputs": [
    {
     "name": "stdout",
     "output_type": "stream",
     "text": [
      "app:\n",
      "  name: file-io-demo\n",
      "  debug: true\n",
      "database:\n",
      "  host: localhost\n",
      "  port: 5432\n",
      "  user: admin\n",
      "  password: secret\n",
      "\n"
     ]
    }
   ],
   "source": [
    "yaml_path = data_dir + \"config.yaml\"\n",
    "read_and_print_file(yaml_path)"
   ]
  },
  {
   "cell_type": "markdown",
   "id": "aee97049",
   "metadata": {},
   "source": [
    "\n",
    "## 8) Binary files (brief)\n",
    "\n",
    "Use mode `'rb'` or `'wb'` for binary read/write (e.g., images, audio). Here we just write some bytes.\n"
   ]
  },
  {
   "cell_type": "code",
   "execution_count": 56,
   "id": "1700e231",
   "metadata": {},
   "outputs": [],
   "source": [
    "binary_path = data_dir + \"bytes.bin\"\n",
    "with open(binary_path, \"wb\") as f:\n",
    "    f.write(b\"\\x00\\x01\\x02\\x03\\xff\")"
   ]
  },
  {
   "cell_type": "markdown",
   "id": "acbedc09",
   "metadata": {},
   "source": [
    "\n",
    "## 9) `pathlib` tips\n",
    "\n",
    "- `Path.exists()`, `is_file()`, `is_dir()`\n",
    "- `Path.read_text()/write_text()` and `read_bytes()/write_bytes()`\n",
    "- `glob()` and `rglob()` to find files\n"
   ]
  },
  {
   "cell_type": "code",
   "execution_count": 60,
   "id": "111c1ce2",
   "metadata": {},
   "outputs": [
    {
     "name": "stdout",
     "output_type": "stream",
     "text": [
      "[PosixPath('sample_files/passed_students.csv'), PosixPath('sample_files/students.csv')]\n"
     ]
    },
    {
     "data": {
      "text/plain": [
       "'hello'"
      ]
     },
     "execution_count": 60,
     "metadata": {},
     "output_type": "execute_result"
    }
   ],
   "source": [
    "from pathlib import Path\n",
    "data_dir = Path(\"sample_files\")\n",
    "# List all .csv files under data/\n",
    "print(list((data_dir).glob(\"*.csv\")))\n",
    "\n",
    "# Read/write helpers\n",
    "(Path(\"sample_files/scratch.txt\")).write_text(\"hello\", encoding=\"utf-8\")\n",
    "Path(\"sample_files/scratch.txt\").read_text(encoding=\"utf-8\")\n"
   ]
  },
  {
   "cell_type": "markdown",
   "id": "b0414b69",
   "metadata": {},
   "source": [
    "\n",
    "## 10) Practice Exercises\n",
    "\n",
    "1) **Read Lines & Count**: Open `notes.txt` and count the number of lines and total words. Print both.\n",
    "2) **Copy File**: Read `notes.txt` and write a copy to `notes_copy.txt` (same content).\n",
    "3) **Filter CSV**: From `students.csv`, write a new CSV `honor_roll.csv` containing only students with grade ≥ 4.2.\n",
    "4) **CSV Stats**: Read `students.csv` and print the average grade.\n",
    "5) **Append Log**: Append a line to `output.txt` with the current run number (e.g., `Run #N`), where N increments each time.\n",
    "6) **JSON Transform**: Load `data.json`, add a new field `exported_at` with any timestamp string, and save to `data_with_ts.json` (pretty).\n",
    "7) **JSONL Filter**: From `reviews.jsonl`, create `positive_reviews.jsonl` keeping only objects where `stars >= 4`.\n",
    "8) **TSV to CSV**: Read `table.tsv` and save it as `table_converted.csv`.\n",
    "9) **Word Replace**: Read `notes.txt`, replace the word `file` with `document`, and save to `notes_replaced.txt`.\n",
    "10) **Safe Reader**: Write a function `safe_read(path)` that returns file content or `None` if the file does not exist (handle exceptions).\n",
    "11) **Binary Size**: Open `bytes.bin` in binary mode and print how many bytes it contains.\n",
    "12) **Glob**: Use `pathlib` to list all files in `data/` whose name contains `students`.\n"
   ]
  },
  {
   "cell_type": "code",
   "execution_count": null,
   "id": "bf727c4b-7b91-4878-843b-b2ab722a6487",
   "metadata": {},
   "outputs": [],
   "source": []
  }
 ],
 "metadata": {
  "kernelspec": {
   "display_name": "Python 3 (ipykernel)",
   "language": "python",
   "name": "python3"
  },
  "language_info": {
   "codemirror_mode": {
    "name": "ipython",
    "version": 3
   },
   "file_extension": ".py",
   "mimetype": "text/x-python",
   "name": "python",
   "nbconvert_exporter": "python",
   "pygments_lexer": "ipython3",
   "version": "3.11.9"
  }
 },
 "nbformat": 4,
 "nbformat_minor": 5
}
