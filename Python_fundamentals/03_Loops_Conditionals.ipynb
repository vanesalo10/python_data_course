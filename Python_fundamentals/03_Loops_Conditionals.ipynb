{
 "cells": [
  {
   "cell_type": "markdown",
   "id": "eacc80d9-1159-4931-9669-6846ceda691d",
   "metadata": {},
   "source": [
    "# Python Flow Control: Conditionals, Loops, and Comprehensions\n",
    "\n",
    "In this notebook you'll learn:\n",
    "- Conditionals: `if`, `elif`, `else`, truthiness, and logical operators\n",
    "- Loops: `while` and `for`, including `break`, `continue`, `pass`\n",
    "- Iteration helpers: `range`, `enumerate`, `zip`\n",
    "- Exceptions: raising and handling to control flow\n",
    "- Nested loops and iterating data structures\n",
    "- Comprehensions: concise looping for lists/dicts/sets\n",
    "\n",
    "> **Flow control** decides *when* a block of code runs, repeats, or stops.  \n",
    "> **Loops (cycles)** repeat actions until a condition changes.\n"
   ]
  },
  {
   "cell_type": "markdown",
   "id": "f4c21f6c-8e98-49f5-93e0-7ef9da66031d",
   "metadata": {},
   "source": [
    " ## 0) Warm-up: Real-world flow control & cycles\n",
    "\n",
    "- Drive at 60 km/h **while** the traffic light is green.  \n",
    "- Count every coin **until** the piggy bank is empty.  \n",
    "- Start a party **only if** every student passes ≥ 80%.\n",
    "\n",
    "We'll translate these into code below.\n"
   ]
  },
  {
   "cell_type": "markdown",
   "id": "9bdb175a-677e-4648-a405-92bcfdc7b4b3",
   "metadata": {},
   "source": [
    "## 1) Conditionals: `if`, `elif`, `else` + comparisons & logical operators\n"
   ]
  },
  {
   "cell_type": "code",
   "execution_count": 2,
   "id": "fb7bc226-3c5b-4485-ac6c-57e9cba0ca02",
   "metadata": {},
   "outputs": [
    {
     "name": "stdout",
     "output_type": "stream",
     "text": [
      "They will steal your taxes 💸\n"
     ]
    }
   ],
   "source": [
    "\n",
    "votos_por_corruptos = 50\n",
    "votos_por_honestos = 3\n",
    "\n",
    "if votos_por_corruptos > votos_por_honestos:\n",
    "    print(\"They will steal your taxes 💸\")\n",
    "else:\n",
    "    print(\"Clean governance (we hope)!\")\n"
   ]
  },
  {
   "cell_type": "code",
   "execution_count": 3,
   "id": "898380f5-19a8-4c36-ad56-3e1aac643671",
   "metadata": {},
   "outputs": [
    {
     "name": "stdout",
     "output_type": "stream",
     "text": [
      "Can enter: True\n",
      "Is teen: True\n",
      "Negation example: True\n"
     ]
    }
   ],
   "source": [
    "# Comparisons return booleans; combine with logical operators\n",
    "age = 19\n",
    "has_id = True\n",
    "\n",
    "can_enter = (age >= 18) and has_id        # and / or / not\n",
    "print(\"Can enter:\", can_enter)\n",
    "\n",
    "is_teen = (13 <= age < 20)                # chained comparisons\n",
    "print(\"Is teen:\", is_teen)\n",
    "\n",
    "print(\"Negation example:\", not (age < 18))\n"
   ]
  },
  {
   "cell_type": "markdown",
   "id": "43c85eb1-3dd5-416d-9067-25d430b41089",
   "metadata": {},
   "source": [
    "### Truthiness in Python\n",
    "Values considered **False**: `False`, `None`, `0`, `0.0`, `\"\"`, `[]`, `{}`, `set()`  \n",
    "Everything else is **True**.\n",
    "\n",
    "Use truthiness wisely in conditions.\n"
   ]
  },
  {
   "cell_type": "code",
   "execution_count": 4,
   "id": "6aa6aaa8-31ba-4a6b-97d7-2e3984df0add",
   "metadata": {},
   "outputs": [
    {
     "name": "stdout",
     "output_type": "stream",
     "text": [
      "No data yet, please load a dataset.\n"
     ]
    }
   ],
   "source": [
    "data = []\n",
    "if not data:\n",
    "    print(\"No data yet, please load a dataset.\")\n"
   ]
  },
  {
   "cell_type": "markdown",
   "id": "d7c5b636-ff0c-4ae8-9e86-0eb181fcaeb2",
   "metadata": {},
   "source": [
    "## 2) `while` loops: repeat while a condition is True\n"
   ]
  },
  {
   "cell_type": "code",
   "execution_count": 5,
   "id": "103c2af5-4fcc-4662-8a2d-54f58a2b4262",
   "metadata": {},
   "outputs": [
    {
     "name": "stdout",
     "output_type": "stream",
     "text": [
      "Running at 60 km/h because traffic light is green\n",
      "Stopped because traffic light is yellow\n"
     ]
    }
   ],
   "source": [
    "import random\n",
    "\n",
    "speed = 60\n",
    "traffic_lights = [\"red\", \"green\", \"yellow\"]\n",
    "current_traffic_light = \"green\"\n",
    "\n",
    "while current_traffic_light == \"green\":\n",
    "    print(f\"Running at {speed} km/h because traffic light is green\")\n",
    "    current_traffic_light = random.sample(traffic_lights, k=1)[0]\n",
    "\n",
    "print(f\"Stopped because traffic light is {current_traffic_light}\")\n"
   ]
  },
  {
   "cell_type": "markdown",
   "id": "45fb687b-0d01-4857-96ac-f755b53af85e",
   "metadata": {},
   "source": [
    "### `break`, `continue`, `pass` with `while`\n",
    "- `break`: exit the loop immediately  \n",
    "- `continue`: skip to the next iteration  \n",
    "- `pass`: no-op (placeholder)\n"
   ]
  },
  {
   "cell_type": "code",
   "execution_count": 6,
   "id": "f332aa4e-8284-4556-9636-5659ec58c94d",
   "metadata": {},
   "outputs": [
    {
     "name": "stdout",
     "output_type": "stream",
     "text": [
      "Lucky 7 after 1 attempt(s) — breaking.\n"
     ]
    }
   ],
   "source": [
    "attempts = 0\n",
    "while True:\n",
    "    attempts += 1\n",
    "    draw = random.randint(1, 10)\n",
    "    if draw == 7:\n",
    "        print(f\"Lucky 7 after {attempts} attempt(s) — breaking.\")\n",
    "        break\n",
    "    if draw % 2 == 0:\n",
    "        # even numbers — just skip the rest of this iteration\n",
    "        continue\n",
    "    # odd & not 7 → do nothing special\n",
    "    pass\n"
   ]
  },
  {
   "cell_type": "markdown",
   "id": "bd6c2cde-35ba-473d-b5b5-bfc3d26b023d",
   "metadata": {},
   "source": [
    "## 3) `for` loops: iterate over sequences and iterables"
   ]
  },
  {
   "cell_type": "code",
   "execution_count": 10,
   "id": "e07a8aab-ed8f-4c3d-aed0-c89533b1a387",
   "metadata": {},
   "outputs": [
    {
     "data": {
      "text/plain": [
       "2700"
      ]
     },
     "execution_count": 10,
     "metadata": {},
     "output_type": "execute_result"
    }
   ],
   "source": [
    "# Sum all coins in a money box\n",
    "money_box = [50, 50, 200, 500, 200, 100, 100, 1000, 500]\n",
    "total_savings = 0\n",
    "for coin in money_box:\n",
    "    total_savings += coin\n",
    "total_savings\n"
   ]
  },
  {
   "cell_type": "code",
   "execution_count": 11,
   "id": "db2d4131-f6fd-42c8-ad4f-e57e16bc2ead",
   "metadata": {},
   "outputs": [
    {
     "data": {
      "text/plain": [
       "36.833333333333336"
      ]
     },
     "execution_count": 11,
     "metadata": {},
     "output_type": "execute_result"
    }
   ],
   "source": [
    "# Average age example \n",
    "years = [22, 24, 65, 49, 33, 28]\n",
    "sum_of_years = 0\n",
    "for y in years:\n",
    "    sum_of_years += y\n",
    "average_years = sum_of_years / len(years)\n",
    "average_years\n"
   ]
  },
  {
   "cell_type": "code",
   "execution_count": 12,
   "id": "09414d92-bbb4-42b9-80a8-fa57cd5a633c",
   "metadata": {},
   "outputs": [
    {
     "name": "stdout",
     "output_type": "stream",
     "text": [
      "All numbers: [1, 2, 3, 4, 5]\n"
     ]
    },
    {
     "data": {
      "text/plain": [
       "6"
      ]
     },
     "execution_count": 12,
     "metadata": {},
     "output_type": "execute_result"
    }
   ],
   "source": [
    "# Sum of even numbers (from your notes)\n",
    "numbers = [1, 2, 3, 4, 5]\n",
    "print(f\"All numbers: {numbers}\")\n",
    "sum_of_evens = 0\n",
    "for n in numbers:\n",
    "    if n % 2 == 0:\n",
    "        sum_of_evens += n\n",
    "sum_of_evens"
   ]
  },
  {
   "cell_type": "markdown",
   "id": "8b70515d-31ff-455f-b524-72e3b9a066c8",
   "metadata": {},
   "source": [
    "### Iteration helpers: `range`, `enumerate`, `zip`"
   ]
  },
  {
   "cell_type": "code",
   "execution_count": 13,
   "id": "0fd94840-fb97-4887-8761-a599cca23789",
   "metadata": {},
   "outputs": [
    {
     "name": "stdout",
     "output_type": "stream",
     "text": [
      "[0, 1, 2, 3, 4]\n",
      "[2, 4, 6, 8]\n"
     ]
    }
   ],
   "source": [
    "# range: generate integer sequences\n",
    "print(list(range(5)))           # 0..4\n",
    "print(list(range(2, 10, 2)))    # 2,4,6,8\n"
   ]
  },
  {
   "cell_type": "code",
   "execution_count": 14,
   "id": "d9a7ae98-3d4c-4534-adcb-89788225171d",
   "metadata": {},
   "outputs": [
    {
     "name": "stdout",
     "output_type": "stream",
     "text": [
      "1 A\n",
      "2 B\n",
      "3 C\n"
     ]
    }
   ],
   "source": [
    "# enumerate: get (index, item)\n",
    "for idx, val in enumerate([\"A\", \"B\", \"C\"], start=1):\n",
    "    print(idx, val)\n"
   ]
  },
  {
   "cell_type": "code",
   "execution_count": 15,
   "id": "7828f157-fdfe-40df-be9e-1d3e575f774f",
   "metadata": {},
   "outputs": [
    {
     "name": "stdout",
     "output_type": "stream",
     "text": [
      "Ana: 0.9\n",
      "Luis: 0.75\n",
      "Karla: 0.82\n"
     ]
    }
   ],
   "source": [
    "# zip: iterate multiple sequences in parallel\n",
    "names = [\"Ana\", \"Luis\", \"Karla\"]\n",
    "scores = [0.9, 0.75, 0.82]\n",
    "for name, score in zip(names, scores):\n",
    "    print(f\"{name}: {score}\")\n"
   ]
  },
  {
   "cell_type": "markdown",
   "id": "1e26ca61-2cee-413b-b299-9912c3a17b15",
   "metadata": {},
   "source": [
    "## 4) Guarding logic with conditionals (pass/fail party example)"
   ]
  },
  {
   "cell_type": "code",
   "execution_count": 16,
   "id": "bcda4777-f5ee-4e9f-a751-497b09f9a571",
   "metadata": {},
   "outputs": [
    {
     "data": {
      "text/plain": [
       "False"
      ]
     },
     "execution_count": 16,
     "metadata": {},
     "output_type": "execute_result"
    }
   ],
   "source": [
    "party = True\n",
    "students_grade = [0.7, 0.8, 0.9, 1.0, 0.85]\n",
    "\n",
    "for g in students_grade:\n",
    "    if g < 0.8:\n",
    "        party = False\n",
    "\n",
    "party\n"
   ]
  },
  {
   "cell_type": "markdown",
   "id": "6a604cc9-9601-43dc-ab06-904e227e2e95",
   "metadata": {},
   "source": [
    "## 5) Exceptions as flow control (raise/handle errors)\n",
    "\n",
    "Use exceptions to **signal invalid states** or stop execution with a clear message.\n"
   ]
  },
  {
   "cell_type": "code",
   "execution_count": 17,
   "id": "cd021807-e70e-4dd2-961a-312451fd9ce4",
   "metadata": {},
   "outputs": [
    {
     "ename": "RuntimeError",
     "evalue": "There is no way you can pass the course without effort",
     "output_type": "error",
     "traceback": [
      "\u001b[31m---------------------------------------------------------------------------\u001b[39m",
      "\u001b[31mRuntimeError\u001b[39m                              Traceback (most recent call last)",
      "\u001b[36mCell\u001b[39m\u001b[36m \u001b[39m\u001b[32mIn[17]\u001b[39m\u001b[32m, line 6\u001b[39m\n\u001b[32m      3\u001b[39m wants_to_pass_the_course = \u001b[38;5;28;01mTrue\u001b[39;00m\n\u001b[32m      5\u001b[39m \u001b[38;5;28;01mif\u001b[39;00m effort \u001b[38;5;129;01mis\u001b[39;00m \u001b[38;5;28;01mNone\u001b[39;00m \u001b[38;5;129;01mand\u001b[39;00m wants_to_pass_the_course:\n\u001b[32m----> \u001b[39m\u001b[32m6\u001b[39m     \u001b[38;5;28;01mraise\u001b[39;00m \u001b[38;5;167;01mRuntimeError\u001b[39;00m(\u001b[33m\"\u001b[39m\u001b[33mThere is no way you can pass the course without effort\u001b[39m\u001b[33m\"\u001b[39m)\n\u001b[32m      7\u001b[39m \u001b[38;5;28mprint\u001b[39m(\u001b[33m\"\u001b[39m\u001b[33myou can pass!\u001b[39m\u001b[33m\"\u001b[39m)\n",
      "\u001b[31mRuntimeError\u001b[39m: There is no way you can pass the course without effort"
     ]
    }
   ],
   "source": [
    "# From your notes\n",
    "effort = None\n",
    "wants_to_pass_the_course = True\n",
    "\n",
    "if effort is None and wants_to_pass_the_course:\n",
    "    raise RuntimeError(\"There is no way you can pass the course without effort\")\n",
    "print(\"you can pass!\")\n"
   ]
  },
  {
   "cell_type": "markdown",
   "id": "53450547-3bdb-45a5-a77a-64bc5d30e0b6",
   "metadata": {},
   "source": [
    "### Handling exceptions: `try / except / else / finally`\n"
   ]
  },
  {
   "cell_type": "code",
   "execution_count": 21,
   "id": "3045c38c-5a76-405c-a912-24d4bd4eb383",
   "metadata": {},
   "outputs": [
    {
     "name": "stdout",
     "output_type": "stream",
     "text": [
      "42\n",
      "None\n"
     ]
    }
   ],
   "source": [
    "def to_int(x):\n",
    "    try:\n",
    "        return int(x)\n",
    "    except ValueError:\n",
    "        return None\n",
    "    finally:\n",
    "        # runs no matter what; keep it light\n",
    "        pass\n",
    "\n",
    "print(to_int(\"42\"))\n",
    "print(to_int(\"not-a-number\"))\n"
   ]
  },
  {
   "cell_type": "markdown",
   "id": "8072e6d3-817f-41f8-a6c1-af3c2136091d",
   "metadata": {},
   "source": [
    "## 6) Nested loops & building structures"
   ]
  },
  {
   "cell_type": "code",
   "execution_count": 23,
   "id": "efdba09c-c21e-42e1-96aa-453db4ec0d85",
   "metadata": {},
   "outputs": [
    {
     "data": {
      "text/plain": [
       "{1: [1, 1, 1, 1],\n",
       " 2: [4, 8, 16, 32],\n",
       " 3: [9, 27, 81, 243],\n",
       " 4: [16, 64, 256, 1024]}"
      ]
     },
     "execution_count": 23,
     "metadata": {},
     "output_type": "execute_result"
    }
   ],
   "source": [
    "# powers table\n",
    "bases = [1, 2, 3, 4]\n",
    "powers = [2, 3, 4, 5]\n",
    "results = {}\n",
    "\n",
    "for b in bases:\n",
    "    results_for_current_base = []\n",
    "    for p in powers:\n",
    "        results_for_current_base.append(b ** p)\n",
    "    results[b] = results_for_current_base\n",
    "\n",
    "results\n"
   ]
  },
  {
   "cell_type": "markdown",
   "id": "2d64fc39-1bf4-40f1-a6b6-915159f7f7d4",
   "metadata": {},
   "source": [
    "## 7) Iterating data structures (dicts, sets, etc.)\n"
   ]
  },
  {
   "cell_type": "code",
   "execution_count": 25,
   "id": "47621244-909f-4835-af40-81c84692c62f",
   "metadata": {},
   "outputs": [
    {
     "name": "stdout",
     "output_type": "stream",
     "text": [
      "Santiago: 3.3\n",
      "Julian: 3.4\n",
      "Danilo: 4.1\n"
     ]
    }
   ],
   "source": [
    "#iterate dict items\n",
    "grades = {\"Santiago\": 3.3, \"Julian\": 3.4, \"Danilo\": 4.1}\n",
    "for name, g in grades.items():\n",
    "    print(f\"{name}: {g}\")\n"
   ]
  },
  {
   "cell_type": "code",
   "execution_count": 26,
   "id": "1e7d2c31-227a-462e-af17-675339e12689",
   "metadata": {},
   "outputs": [
    {
     "name": "stdout",
     "output_type": "stream",
     "text": [
      "key: a\n",
      "key: b\n",
      "key: c\n",
      "value: 1\n",
      "value: 2\n",
      "value: 3\n",
      "a -> 1\n",
      "b -> 2\n",
      "c -> 3\n"
     ]
    }
   ],
   "source": [
    "# Quick patterns\n",
    "d = {\"a\": 1, \"b\": 2, \"c\": 3}\n",
    "for k in d:              # keys by default\n",
    "    print(\"key:\", k)\n",
    "\n",
    "for v in d.values():     # values\n",
    "    print(\"value:\", v)\n",
    "\n",
    "for k, v in d.items():   # pairs\n",
    "    print(f\"{k} -> {v}\")\n"
   ]
  },
  {
   "cell_type": "markdown",
   "id": "f4662151-11d8-40cc-98cf-05ffa4845e71",
   "metadata": {},
   "source": [
    "## 8) Comprehensions: compact loops for transformation & filtering (again)\n",
    "\n",
    "Use comprehensions for concise and fast transformations.\n"
   ]
  },
  {
   "cell_type": "code",
   "execution_count": 28,
   "id": "1cb8c412-3704-4373-970d-cce6b65bd84a",
   "metadata": {},
   "outputs": [
    {
     "data": {
      "text/plain": [
       "([1, 2, 3, 4, 5, 6, 7, 8, 9, 10],\n",
       " [False, True, False, True, False, True, False, True, False, True],\n",
       " [2, 4, 6, 8, 10],\n",
       " [2, 1.0, 6, 2.0, 10, 3.0, 14, 4.0, 18, 5.0])"
      ]
     },
     "execution_count": 28,
     "metadata": {},
     "output_type": "execute_result"
    }
   ],
   "source": [
    "\n",
    "numbers = [1,2,3,4,5,6,7,8,9,10]\n",
    "is_even = [(n % 2) == 0 for n in numbers]\n",
    "even_numbers = [n for n in numbers if (n % 2) == 0]\n",
    "new_numbers = [n*2 if (n % 2) != 0 else n / 2 for n in numbers]\n",
    "numbers, is_even, even_numbers, new_numbers\n"
   ]
  },
  {
   "cell_type": "code",
   "execution_count": 29,
   "id": "c61f78dd-20e3-4c4d-a1c7-763d4fe292f7",
   "metadata": {},
   "outputs": [
    {
     "data": {
      "text/plain": [
       "([4, 7, 2, 2, 6],\n",
       " {2, 4, 6, 7},\n",
       " {'data': 0, 'science': 1, 'ai': 2, 'ml': 3, 'python': 4})"
      ]
     },
     "execution_count": 29,
     "metadata": {},
     "output_type": "execute_result"
    }
   ],
   "source": [
    "# More comprehension variants\n",
    "words = [\"data\", \"science\", \"ai\", \"ml\", \"python\"]\n",
    "lengths = [len(w) for w in words]                    # list\n",
    "unique_lengths = {len(w) for w in words}             # set\n",
    "index_map = {w: i for i, w in enumerate(words)}      # dict\n",
    "lengths, unique_lengths, index_map\n"
   ]
  },
  {
   "cell_type": "markdown",
   "id": "9cd6b719-434d-42e2-b867-e158a3404e12",
   "metadata": {},
   "source": [
    "## 10) Key takeaways\n",
    "\n",
    "- **Conditionals** control *whether* a block runs.  \n",
    "- **Loops** repeat work until conditions change.  \n",
    "- Use **exceptions** to stop execution or signal invalid states.  \n",
    "- Prefer **comprehensions** for compact, readable transformations.  \n",
    "- Combine these tools to model real-world logic clearly and safely.\n"
   ]
  },
  {
   "cell_type": "markdown",
   "id": "de3a0376-5316-4551-a543-65edc0f00e26",
   "metadata": {},
   "source": [
    "## 9) Putting it together: small tasks\n",
    "\n",
    "1) Write a loop that sums only the **odd** numbers from 1..99.  \n",
    "2) Given `prices = [10, 0, 25, None, 50]`, sum only valid numeric entries.  \n",
    "3) Use `while` to simulate rolling a fair die until you get a 6; count attempts.  \n",
    "4) Given two lists of same length, print the pairwise max using `zip`.  \n",
    "5) Build a list comprehension that converts `[\"10\", \"a\", \"30\"]` → `[10, None, 30]` (use a helper with try/except).\n"
   ]
  },
  {
   "cell_type": "markdown",
   "id": "5a3f6637-619b-47d3-82ae-b03078c6ee81",
   "metadata": {},
   "source": [
    "## 9) Hackerrank exercises"
   ]
  },
  {
   "cell_type": "markdown",
   "id": "aa46c85d-1cff-4d27-bc9a-e108ea44a678",
   "metadata": {},
   "source": [
    "1. https://www.hackerrank.com/challenges/array-left-rotation/problem\n",
    "2. https://www.hackerrank.com/challenges/missing-numbers/problem\n",
    "3. https://www.hackerrank.com/challenges/sparse-arrays/problem\n",
    "4. https://www.hackerrank.com/challenges/caesar-cipher-1/problem (hint: remember isalpha(), lower(), isupper(), index() string methods)\n",
    "5. https://www.hackerrank.com/challenges/pangrams/problem\n",
    "6. https://www.hackerrank.com/challenges/mini-max-sum/problem\n",
    "7. https://www.hackerrank.com/challenges/staircase/problem\n",
    "8. https://www.hackerrank.com/challenges/icecream-parlor/problem"
   ]
  },
  {
   "cell_type": "code",
   "execution_count": null,
   "id": "2195955a-1ffe-4a6d-ae1a-b5ea632a8c4f",
   "metadata": {},
   "outputs": [],
   "source": []
  }
 ],
 "metadata": {
  "kernelspec": {
   "display_name": "Python 3 (ipykernel)",
   "language": "python",
   "name": "python3"
  },
  "language_info": {
   "codemirror_mode": {
    "name": "ipython",
    "version": 3
   },
   "file_extension": ".py",
   "mimetype": "text/x-python",
   "name": "python",
   "nbconvert_exporter": "python",
   "pygments_lexer": "ipython3",
   "version": "3.11.9"
  }
 },
 "nbformat": 4,
 "nbformat_minor": 5
}
