{
 "cells": [
  {
   "cell_type": "code",
   "execution_count": 1,
   "id": "db7fee78-e2b9-4f94-b219-36b30057b1cc",
   "metadata": {},
   "outputs": [
    {
     "name": "stdout",
     "output_type": "stream",
     "text": [
      "Rionegro\n"
     ]
    }
   ],
   "source": [
    "city = \"Rionegro\"\n",
    "print(city)"
   ]
  },
  {
   "cell_type": "code",
   "execution_count": 3,
   "id": "9d77a1af-1236-40c2-af6d-aaccd76cb859",
   "metadata": {},
   "outputs": [
    {
     "name": "stdout",
     "output_type": "stream",
     "text": [
      "12\n",
      "2\n",
      "35\n"
     ]
    }
   ],
   "source": [
    "x = 7\n",
    "y = 5\n",
    "print(f\"{x+y}\\n{x-y}\\n{x*y}\")"
   ]
  },
  {
   "cell_type": "code",
   "execution_count": 4,
   "id": "247bab06-1817-4dc4-abec-fcf0040f693e",
   "metadata": {},
   "outputs": [
    {
     "name": "stdout",
     "output_type": "stream",
     "text": [
      "<class 'float'>\n"
     ]
    }
   ],
   "source": [
    "pi = 3.1416\n",
    "print(type(pi))"
   ]
  },
  {
   "cell_type": "code",
   "execution_count": 7,
   "id": "4e266dbe-f5e4-4dd5-b285-41d90247b59e",
   "metadata": {},
   "outputs": [
    {
     "name": "stdout",
     "output_type": "stream",
     "text": [
      "Is it raining? False\n"
     ]
    }
   ],
   "source": [
    "is_raining = False\n",
    "print(\"Is it raining?\", is_raining)"
   ]
  },
  {
   "cell_type": "code",
   "execution_count": 11,
   "id": "17f018e2-a490-43a8-bef5-156bfd15024c",
   "metadata": {},
   "outputs": [
    {
     "name": "stdout",
     "output_type": "stream",
     "text": [
      "Maria Gómez\n"
     ]
    }
   ],
   "source": [
    "first_name = \"Maria\"\n",
    "last_name = \"Gómez\"\n",
    "full_name = first_name + \" \" + last_name\n",
    "print(full_name)"
   ]
  },
  {
   "cell_type": "code",
   "execution_count": 12,
   "id": "8dbfba37-9ec3-41db-a80a-4a1fca416b1c",
   "metadata": {},
   "outputs": [
    {
     "name": "stdout",
     "output_type": "stream",
     "text": [
      "4\n"
     ]
    }
   ],
   "source": [
    "modulo = 29%5\n",
    "print(modulo)"
   ]
  },
  {
   "cell_type": "code",
   "execution_count": 13,
   "id": "f60d2acd-22a4-423b-a1bd-0ed6ad3d7bc9",
   "metadata": {},
   "outputs": [
    {
     "name": "stdout",
     "output_type": "stream",
     "text": [
      "19.0\n"
     ]
    }
   ],
   "source": [
    "n = (5+2)*3-4/2\n",
    "print(n)"
   ]
  },
  {
   "cell_type": "code",
   "execution_count": 15,
   "id": "650d9274-fc0f-4d40-b510-53810075ef85",
   "metadata": {},
   "outputs": [
    {
     "name": "stdout",
     "output_type": "stream",
     "text": [
      "True\n"
     ]
    }
   ],
   "source": [
    "age = 21\n",
    "check_age = 18 <= age\n",
    "print(check_age)"
   ]
  },
  {
   "cell_type": "code",
   "execution_count": 16,
   "id": "40f228fb-5c34-4a6e-8aca-b13796bbd15d",
   "metadata": {},
   "outputs": [
    {
     "name": "stdout",
     "output_type": "stream",
     "text": [
      "PYTHON PROGRAMMING IS FUN\n"
     ]
    }
   ],
   "source": [
    "text = \"python programming is fun\"\n",
    "print(text.upper())"
   ]
  },
  {
   "cell_type": "code",
   "execution_count": 17,
   "id": "b4c297d7-5b9c-4c59-947f-5d4e420ee5e6",
   "metadata": {},
   "outputs": [
    {
     "name": "stdout",
     "output_type": "stream",
     "text": [
      "There are 12 apples and 8 oranges\n"
     ]
    }
   ],
   "source": [
    "apples = 12\n",
    "oranges = 8\n",
    "print(f\"There are {apples} apples and {oranges} oranges\")"
   ]
  },
  {
   "cell_type": "code",
   "execution_count": 22,
   "id": "8969523a-471b-436c-abd8-0c66e2eaadef",
   "metadata": {},
   "outputs": [
    {
     "name": "stdout",
     "output_type": "stream",
     "text": [
      "None\n",
      "<class 'NoneType'>\n"
     ]
    }
   ],
   "source": [
    "next_topic = None\n",
    "print(next_topic)\n",
    "print(type(next_topic))"
   ]
  },
  {
   "cell_type": "code",
   "execution_count": 24,
   "id": "bade2bb3-6a1e-4a1c-bd0c-5037855c7a51",
   "metadata": {},
   "outputs": [
    {
     "name": "stdout",
     "output_type": "stream",
     "text": [
      "2\n"
     ]
    }
   ],
   "source": [
    "course = \"Data Science\"\n",
    "print(course.count(\"a\"))"
   ]
  },
  {
   "cell_type": "code",
   "execution_count": 25,
   "id": "d5031d11-8ddb-4528-9b37-018c65e95adb",
   "metadata": {},
   "outputs": [
    {
     "name": "stdout",
     "output_type": "stream",
     "text": [
      "[9, 9, 9, 9, 9, 9]\n"
     ]
    }
   ],
   "source": [
    "number = 9\n",
    "list = [9] * 6\n",
    "print(list)"
   ]
  },
  {
   "cell_type": "code",
   "execution_count": 26,
   "id": "259ef4d4-49d6-422a-806e-b3008c1987d9",
   "metadata": {},
   "outputs": [
    {
     "name": "stdout",
     "output_type": "stream",
     "text": [
      "False\n"
     ]
    }
   ],
   "source": [
    "expression = 10 > 5 and 3 < 1\n",
    "print(expression)"
   ]
  },
  {
   "cell_type": "code",
   "execution_count": 27,
   "id": "01e4521d-baf7-4497-ac80-ef4d0c0d9c37",
   "metadata": {},
   "outputs": [
    {
     "name": "stdout",
     "output_type": "stream",
     "text": [
      "gram\n"
     ]
    }
   ],
   "source": [
    "x = \"Programming\"\n",
    "print(x[3:7])"
   ]
  }
 ],
 "metadata": {
  "kernelspec": {
   "display_name": "Python 3 (ipykernel)",
   "language": "python",
   "name": "python3"
  },
  "language_info": {
   "codemirror_mode": {
    "name": "ipython",
    "version": 3
   },
   "file_extension": ".py",
   "mimetype": "text/x-python",
   "name": "python",
   "nbconvert_exporter": "python",
   "pygments_lexer": "ipython3",
   "version": "3.13.5"
  }
 },
 "nbformat": 4,
 "nbformat_minor": 5
}
