{
 "cells": [
  {
   "cell_type": "code",
   "execution_count": 3,
   "id": "e9e30b5d-ee60-4f28-a564-c35253b96c99",
   "metadata": {},
   "outputs": [
    {
     "name": "stdout",
     "output_type": "stream",
     "text": [
      "[20, 22, 23, 21, 18]\n"
     ]
    }
   ],
   "source": [
    "temps = [18, 21, 19, 23, 22]\n",
    "temps.append(20), temps.remove(19)\n",
    "print(temps[::-1])"
   ]
  },
  {
   "cell_type": "code",
   "execution_count": 10,
   "id": "9ea1dd12-476b-435e-a3fa-43bff5f7d825",
   "metadata": {},
   "outputs": [
    {
     "name": "stdout",
     "output_type": "stream",
     "text": [
      "Kind of Blue (1959) - Miles Davis\n"
     ]
    }
   ],
   "source": [
    "album = (\"Kind of Blue\", 1959, \"Miles Davis\")\n",
    "title, year, artist = album\n",
    "txt = f\"{title} ({year}) - {artist}\"\n",
    "print(txt)"
   ]
  },
  {
   "cell_type": "code",
   "execution_count": 19,
   "id": "dec97b91-6d04-4a22-9c0a-b15ba824473b",
   "metadata": {},
   "outputs": [
    {
     "data": {
      "text/plain": [
       "['trio', 'improv', 'live', 'fusion', 'jazz']"
      ]
     },
     "execution_count": 19,
     "metadata": {},
     "output_type": "execute_result"
    }
   ],
   "source": [
    "tags = [\"jazz\", \"live\", \"jazz\", \"trio\", \"improv\", \"live\"]\n",
    "tags = set(tags)\n",
    "if \"fusion\" not in tags:\n",
    "    tags.add(\"fusion\")\n",
    "list(tags)"
   ]
  },
  {
   "cell_type": "code",
   "execution_count": 22,
   "id": "f289131d-abe2-49cd-9340-5863964684b9",
   "metadata": {},
   "outputs": [
    {
     "name": "stdout",
     "output_type": "stream",
     "text": [
      "name -> Vanessa\n",
      "role -> analyst\n",
      "courses -> ['Python', 'SQL']\n"
     ]
    }
   ],
   "source": [
    "user = {\"name\": \"Vanessa\", \"role\": \"student\"}\n",
    "user[\"courses\"] = [\"Python\", \"SQL\"]\n",
    "user[\"role\"] = \"analyst\"\n",
    "for k, v in user.items():\n",
    "    print(k, \"->\", v) "
   ]
  },
  {
   "cell_type": "code",
   "execution_count": 29,
   "id": "f6c54afb-b3c1-4db6-a824-226df31a92de",
   "metadata": {},
   "outputs": [
    {
     "data": {
      "text/plain": [
       "({3: 'odd', 6: 'even', 9: 'odd', 12: 'even', 15: 'odd'}, {2, 4, 6, 7})"
      ]
     },
     "execution_count": 29,
     "metadata": {},
     "output_type": "execute_result"
    }
   ],
   "source": [
    "nums = [3, 6, 9, 12, 15]\n",
    "nums_nature = {n: \"even\" if n%2 == 0 else \"odd\" for n in nums}\n",
    "words = [\"data\", \"science\", \"ai\", \"ml\", \"python\"]\n",
    "words_lenght = {len(n) for n in words}\n",
    "nums_nature, words_lenght"
   ]
  },
  {
   "cell_type": "code",
   "execution_count": 32,
   "id": "e97db5b8-eb82-49ab-8e50-adc5f10a34cd",
   "metadata": {},
   "outputs": [
    {
     "name": "stdout",
     "output_type": "stream",
     "text": [
      "{'a': 3, 'b': 2, 'c': 1}\n"
     ]
    }
   ],
   "source": [
    "words = [\"a\", \"b\", \"a\", \"c\", \"b\", \"a\"]\n",
    "words_counts = {n: words.count(n) for n in words}\n",
    "print(words_counts)"
   ]
  },
  {
   "cell_type": "code",
   "execution_count": 33,
   "id": "b46b1742-e9f9-440c-8cb4-492579963e58",
   "metadata": {},
   "outputs": [
    {
     "name": "stdout",
     "output_type": "stream",
     "text": [
      "['a@x.com', 'b@x.com', 'c@x.com']\n"
     ]
    }
   ],
   "source": [
    "emails = [\"a@x.com\",\"b@x.com\",\"a@x.com\",\"c@x.com\"]\n",
    "emails_sorted = sorted(list(set(emails)))\n",
    "print(emails_sorted)"
   ]
  },
  {
   "cell_type": "code",
   "execution_count": 44,
   "id": "cf3aa873-336a-4541-9b6d-fbc4003435f2",
   "metadata": {},
   "outputs": [
    {
     "data": {
      "text/plain": [
       "{'guitar': {'price': 800, 'stock': 7}, 'piano': {'price': 5000, 'stock': 2}}"
      ]
     },
     "execution_count": 44,
     "metadata": {},
     "output_type": "execute_result"
    }
   ],
   "source": [
    "catalog = {\"guitar\": {\"price\": 800, \"stock\": 5}, \"piano\": {\"price\": 5000, \"stock\": 2}}\n",
    "catalog[\"guitar\"][\"stock\"] += 2\n",
    "catalog"
   ]
  },
  {
   "cell_type": "code",
   "execution_count": 46,
   "id": "bc3d70ac-e596-4f4b-b559-a95a411149ca",
   "metadata": {},
   "outputs": [
    {
     "name": "stdout",
     "output_type": "stream",
     "text": [
      "Unknown\n",
      "{'title': 'Blue', 'bpm': 92, 'key': 'D'}\n"
     ]
    }
   ],
   "source": [
    "song = {\"title\": \"Blue\", \"bpm\": 92}\n",
    "print(song.get(\"key\", \"Unknown\"))\n",
    "song[\"key\"] = \"D\"\n",
    "print(song)"
   ]
  },
  {
   "cell_type": "code",
   "execution_count": 50,
   "id": "86499a38-bac5-429b-935f-a7cc408fdb1b",
   "metadata": {},
   "outputs": [
    {
     "name": "stdout",
     "output_type": "stream",
     "text": [
      "No entiendo\n"
     ]
    }
   ],
   "source": [
    "names = [\"Ana\", \"Luis\", \"Ana\", \"Sofia\", \"Luis\", \"Karla\"]\n",
    "names_new = list(set(names))\n",
    "names_new = \"No entiendo\"\n",
    "print(names_new)"
   ]
  }
 ],
 "metadata": {
  "kernelspec": {
   "display_name": "Python 3 (ipykernel)",
   "language": "python",
   "name": "python3"
  },
  "language_info": {
   "codemirror_mode": {
    "name": "ipython",
    "version": 3
   },
   "file_extension": ".py",
   "mimetype": "text/x-python",
   "name": "python",
   "nbconvert_exporter": "python",
   "pygments_lexer": "ipython3",
   "version": "3.13.5"
  }
 },
 "nbformat": 4,
 "nbformat_minor": 5
}
