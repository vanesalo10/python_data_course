{
 "cells": [
  {
   "cell_type": "code",
   "execution_count": 1,
   "id": "ba813fb2-ac55-4b0b-bb58-d0b7922317cf",
   "metadata": {},
   "outputs": [
    {
     "name": "stdout",
     "output_type": "stream",
     "text": [
      "8\n"
     ]
    }
   ],
   "source": [
    "a = 5\n",
    "b = 3\n",
    "print (a+b)"
   ]
  },
  {
   "cell_type": "code",
   "execution_count": 12,
   "id": "2d791c06-3ea7-4ed8-9f1e-283438309182",
   "metadata": {},
   "outputs": [
    {
     "name": "stdout",
     "output_type": "stream",
     "text": [
      "Odd number\n"
     ]
    }
   ],
   "source": [
    "number = 7\n",
    "if number % 2 == 0:\n",
    "    print (\"Even number\")\n",
    "else:\n",
    "    print (\"Odd number\")"
   ]
  },
  {
   "cell_type": "code",
   "execution_count": 1,
   "id": "0dc05701-d2ed-42a8-bcc8-da66781ecc07",
   "metadata": {},
   "outputs": [
    {
     "name": "stdout",
     "output_type": "stream",
     "text": [
      "Number of colors: 3\n"
     ]
    }
   ],
   "source": [
    "colors = [\"red\", \"green\", \"blue\"]\n",
    "print(\"Number of colors:\", len(colors))"
   ]
  },
  {
   "cell_type": "code",
   "execution_count": 27,
   "id": "ddd3942c-6ac1-42df-9615-e9941f01893a",
   "metadata": {},
   "outputs": [
    {
     "name": "stdout",
     "output_type": "stream",
     "text": [
      "nohtyp\n"
     ]
    }
   ],
   "source": [
    "name = \"python\"\n",
    "print (name[::-1])"
   ]
  }
 ],
 "metadata": {
  "kernelspec": {
   "display_name": "Python 3 (ipykernel)",
   "language": "python",
   "name": "python3"
  },
  "language_info": {
   "codemirror_mode": {
    "name": "ipython",
    "version": 3
   },
   "file_extension": ".py",
   "mimetype": "text/x-python",
   "name": "python",
   "nbconvert_exporter": "python",
   "pygments_lexer": "ipython3",
   "version": "3.13.5"
  }
 },
 "nbformat": 4,
 "nbformat_minor": 5
}
